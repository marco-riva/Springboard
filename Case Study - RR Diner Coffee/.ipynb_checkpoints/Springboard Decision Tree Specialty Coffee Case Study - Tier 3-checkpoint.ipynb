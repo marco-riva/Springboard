{
 "cells": [
  {
   "cell_type": "markdown",
   "metadata": {
    "colab_type": "text",
    "id": "Jm0w3zN4DuVK"
   },
   "source": [
    "# **Springboard Decision Tree Specialty Coffee Case Study - Tier 3**\n",
    "\n",
    "\n"
   ]
  },
  {
   "cell_type": "markdown",
   "metadata": {
    "colab_type": "text",
    "id": "BhqpAY7GDuVN"
   },
   "source": [
    "# The Scenario\n",
    "\n",
    "Imagine you've just finished the Springboard Data Science Career Track course, and have been hired by a rising popular specialty coffee company - RR Diner Coffee - as a data scientist. Congratulations!\n",
    "\n",
    "RR Diner Coffee sells two types of thing:\n",
    "- specialty coffee beans, in bulk (by the kilogram only) \n",
    "- coffee equipment and merchandise (grinders, brewing equipment, mugs, books, t-shirts).\n",
    "\n",
    "RR Diner Coffee has three stores, two in Europe and one in the USA. The flagshap store is in the USA, and everything is quality assessed there, before being shipped out. Customers further away from the USA flagship store have higher shipping charges. \n",
    "\n",
    "You've been taken on at RR Diner Coffee because the company are turning towards using data science and machine learning to systematically make decisions about which coffee farmers they should strike deals with. \n",
    "\n",
    "RR Diner Coffee typically buys coffee from farmers, processes it on site, brings it back to the USA, roasts it, packages it, markets it, and ships it (only in bulk, and after quality assurance) to customers internationally. These customers all own coffee shops in major cities like New York, Paris, London, Hong Kong, Tokyo, and Berlin. \n",
    "\n",
    "Now, RR Diner Coffee has a decision about whether to strike a deal with a legendary coffee farm (known as the **Hidden Farm**) in rural China: there are rumours their coffee tastes of lychee and dark chocolate, while also being as sweet as apple juice. \n",
    "\n",
    "It's a risky decision, as the deal will be expensive, and the coffee might not be bought by customers. The stakes are high: times are tough, stocks are low, farmers are reverting to old deals with the larger enterprises and the publicity of selling *Hidden Farm* coffee could save the RR Diner Coffee business. \n",
    "\n",
    "Your first job, then, is ***to build a decision tree to predict how many units of the Hidden Farm Chinese coffee will be purchased by RR Diner Coffee's most loyal customers.*** \n",
    "\n",
    "To this end, you and your team have conducted a survey of 710 of the most loyal RR Diner Coffee customers, collecting data on the customers':\n",
    "- age\n",
    "- gender \n",
    "- salary \n",
    "- whether they have bought at least one RR Diner Coffee product online\n",
    "- their distance from the flagship store in the USA (standardized to a number between 0 and 11) \n",
    "- how much they spent on RR Diner Coffee products on the week of the survey \n",
    "- how much they spent on RR Diner Coffee products in the month preeding the survey\n",
    "- the number of RR Diner coffee bean shipments each customer has ordered over the preceding year. \n",
    "\n",
    "You also asked each customer participating in the survey whether they would buy the Hidden Farm coffee, and some (but not all) of the customers gave responses to that question. \n",
    "\n",
    "You sit back and think: if more than 70% of the interviewed customers are likely to buy the Hidden Farm coffee, you will strike the deal with the local Hidden Farm farmers and sell the coffee. Otherwise, you won't strike the deal and the Hidden Farm coffee will remain in legends only. There's some doubt in your mind about whether 70% is a reasonable threshold, but it'll do for the moment. \n",
    "\n",
    "To solve the problem, then, you will build a decision tree to implement a classification solution. \n",
    "\n",
    "\n",
    "-------------------------------\n",
    "As ever, this notebook is **tiered**, meaning you can elect that tier that is right for your confidence and skill level. There are 3 tiers, with tier 1 being the easiest and tier 3 being the hardest. This is ***tier 3***, so it will be challenging. \n",
    "\n",
    "**1. Sourcing and loading** \n",
    "- Import packages\n",
    "- Load data\n",
    "- Explore the data\n",
    "\n",
    " \n",
    "**2. Cleaning, transforming and visualizing**\n",
    "- Cleaning the data\n",
    "- Train/test split\n",
    "  \n",
    "  \n",
    "**3. Modelling** \n",
    "- Model 1: Entropy model - no max_depth\n",
    "- Model 2: Gini impurity model - no max_depth\n",
    "- Model 3: Entropy model - max depth 3\n",
    "- Model 4: Gini impurity model - max depth 3\n",
    "\n",
    "\n",
    "**4. Evaluating and concluding** \n",
    "- How many customers will buy Hidden Farm coffee?\n",
    "- Decision\n",
    "\n",
    "**5. Random Forest** \n",
    "- Import necessary modules\n",
    "- Model\n",
    "- Revise conclusion\n",
    "    "
   ]
  },
  {
   "cell_type": "markdown",
   "metadata": {
    "colab_type": "text",
    "id": "nciXGXtCDuVO"
   },
   "source": [
    "# 0. Overview\n",
    "\n",
    "This notebook uses decision trees to determine whether the factors of salary, gender, age, how much money the customer spent last week and during the preceding month on RR Diner Coffee products, how many kilogram coffee bags the customer bought over the last year, whether they have bought at least one RR Diner Coffee product online, and their distance from the flagship store in the USA, could predict whether customers would purchase the Hidden Farm coffee if a deal with its farmers were struck. "
   ]
  },
  {
   "cell_type": "markdown",
   "metadata": {
    "colab_type": "text",
    "id": "5fSgD2h9DuVP"
   },
   "source": [
    "# 1. Sourcing and loading\n",
    "## 1a. Import Packages"
   ]
  },
  {
   "cell_type": "code",
   "execution_count": 1,
   "metadata": {
    "colab": {},
    "colab_type": "code",
    "id": "CfGkTcLvDuVQ"
   },
   "outputs": [],
   "source": [
    "import pandas as pd\n",
    "import numpy as np\n",
    "from sklearn import tree, metrics\n",
    "from sklearn.model_selection import train_test_split\n",
    "import seaborn as sns\n",
    "import matplotlib.pyplot as plt\n",
    "from io import StringIO  \n",
    "from IPython.display import Image  \n",
    "import pydotplus"
   ]
  },
  {
   "cell_type": "markdown",
   "metadata": {
    "colab_type": "text",
    "id": "ZLgxyhNrDuVT"
   },
   "source": [
    "## 1b. Load data "
   ]
  },
  {
   "cell_type": "code",
   "execution_count": 2,
   "metadata": {
    "colab": {},
    "colab_type": "code",
    "id": "chW2ozlnDuVU"
   },
   "outputs": [],
   "source": [
    "# Read in the data to a variable called coffeeData\n",
    "coffeeData = pd.read_csv('data/RRDinerCoffeeData.csv')"
   ]
  },
  {
   "cell_type": "markdown",
   "metadata": {
    "colab_type": "text",
    "id": "qnMVYf2NDuVW"
   },
   "source": [
    "## 1c. Explore the data"
   ]
  },
  {
   "cell_type": "markdown",
   "metadata": {
    "colab_type": "text",
    "id": "U5Qm4obyDuVX"
   },
   "source": [
    "As we've seen, exploration entails doing things like checking out the **initial appearance** of the data with head(), the **dimensions** of our data with .shape, the **data types** of the variables with .info(), the **number of non-null values**, how much **memory** is being used to store the data, and finally the major summary statistcs capturing **central tendancy, dispersion and the null-excluding shape of the dataset's distribution**. \n",
    "\n",
    "How much of this can you do yourself by this point in the course? Have a real go. "
   ]
  },
  {
   "cell_type": "code",
   "execution_count": 3,
   "metadata": {
    "colab": {},
    "colab_type": "code",
    "id": "cHEKFT4SDuVY"
   },
   "outputs": [
    {
     "data": {
      "text/html": [
       "<div>\n",
       "<style scoped>\n",
       "    .dataframe tbody tr th:only-of-type {\n",
       "        vertical-align: middle;\n",
       "    }\n",
       "\n",
       "    .dataframe tbody tr th {\n",
       "        vertical-align: top;\n",
       "    }\n",
       "\n",
       "    .dataframe thead th {\n",
       "        text-align: right;\n",
       "    }\n",
       "</style>\n",
       "<table border=\"1\" class=\"dataframe\">\n",
       "  <thead>\n",
       "    <tr style=\"text-align: right;\">\n",
       "      <th></th>\n",
       "      <th>Age</th>\n",
       "      <th>Gender</th>\n",
       "      <th>num_coffeeBags_per_year</th>\n",
       "      <th>spent_week</th>\n",
       "      <th>spent_month</th>\n",
       "      <th>SlrAY</th>\n",
       "      <th>Distance</th>\n",
       "      <th>Online</th>\n",
       "      <th>Decision</th>\n",
       "    </tr>\n",
       "  </thead>\n",
       "  <tbody>\n",
       "    <tr>\n",
       "      <th>0</th>\n",
       "      <td>36</td>\n",
       "      <td>Female</td>\n",
       "      <td>0</td>\n",
       "      <td>24</td>\n",
       "      <td>73</td>\n",
       "      <td>42789</td>\n",
       "      <td>0.003168</td>\n",
       "      <td>0</td>\n",
       "      <td>1.0</td>\n",
       "    </tr>\n",
       "    <tr>\n",
       "      <th>1</th>\n",
       "      <td>24</td>\n",
       "      <td>Male</td>\n",
       "      <td>0</td>\n",
       "      <td>44</td>\n",
       "      <td>164</td>\n",
       "      <td>74035</td>\n",
       "      <td>0.520906</td>\n",
       "      <td>0</td>\n",
       "      <td>NaN</td>\n",
       "    </tr>\n",
       "    <tr>\n",
       "      <th>2</th>\n",
       "      <td>24</td>\n",
       "      <td>Male</td>\n",
       "      <td>0</td>\n",
       "      <td>39</td>\n",
       "      <td>119</td>\n",
       "      <td>30563</td>\n",
       "      <td>0.916005</td>\n",
       "      <td>1</td>\n",
       "      <td>1.0</td>\n",
       "    </tr>\n",
       "    <tr>\n",
       "      <th>3</th>\n",
       "      <td>20</td>\n",
       "      <td>Male</td>\n",
       "      <td>0</td>\n",
       "      <td>30</td>\n",
       "      <td>107</td>\n",
       "      <td>13166</td>\n",
       "      <td>0.932098</td>\n",
       "      <td>1</td>\n",
       "      <td>NaN</td>\n",
       "    </tr>\n",
       "    <tr>\n",
       "      <th>4</th>\n",
       "      <td>24</td>\n",
       "      <td>Female</td>\n",
       "      <td>0</td>\n",
       "      <td>20</td>\n",
       "      <td>36</td>\n",
       "      <td>14244</td>\n",
       "      <td>0.965881</td>\n",
       "      <td>0</td>\n",
       "      <td>1.0</td>\n",
       "    </tr>\n",
       "  </tbody>\n",
       "</table>\n",
       "</div>"
      ],
      "text/plain": [
       "   Age  Gender  num_coffeeBags_per_year  spent_week  spent_month  SlrAY  \\\n",
       "0   36  Female                        0          24           73  42789   \n",
       "1   24    Male                        0          44          164  74035   \n",
       "2   24    Male                        0          39          119  30563   \n",
       "3   20    Male                        0          30          107  13166   \n",
       "4   24  Female                        0          20           36  14244   \n",
       "\n",
       "   Distance  Online  Decision  \n",
       "0  0.003168       0       1.0  \n",
       "1  0.520906       0       NaN  \n",
       "2  0.916005       1       1.0  \n",
       "3  0.932098       1       NaN  \n",
       "4  0.965881       0       1.0  "
      ]
     },
     "execution_count": 3,
     "metadata": {},
     "output_type": "execute_result"
    }
   ],
   "source": [
    "# Call head() on your data \n",
    "coffeeData.head()"
   ]
  },
  {
   "cell_type": "code",
   "execution_count": 4,
   "metadata": {
    "colab": {},
    "colab_type": "code",
    "id": "rDshwA7tDuVa"
   },
   "outputs": [
    {
     "data": {
      "text/plain": [
       "(702, 9)"
      ]
     },
     "execution_count": 4,
     "metadata": {},
     "output_type": "execute_result"
    }
   ],
   "source": [
    "# Call .shape on your data\n",
    "coffeeData.shape"
   ]
  },
  {
   "cell_type": "code",
   "execution_count": 5,
   "metadata": {
    "colab": {},
    "colab_type": "code",
    "id": "iCxo0tomDuVc"
   },
   "outputs": [
    {
     "name": "stdout",
     "output_type": "stream",
     "text": [
      "<class 'pandas.core.frame.DataFrame'>\n",
      "RangeIndex: 702 entries, 0 to 701\n",
      "Data columns (total 9 columns):\n",
      " #   Column                   Non-Null Count  Dtype  \n",
      "---  ------                   --------------  -----  \n",
      " 0   Age                      702 non-null    int64  \n",
      " 1   Gender                   702 non-null    object \n",
      " 2   num_coffeeBags_per_year  702 non-null    int64  \n",
      " 3   spent_week               702 non-null    int64  \n",
      " 4   spent_month              702 non-null    int64  \n",
      " 5   SlrAY                    702 non-null    int64  \n",
      " 6   Distance                 702 non-null    float64\n",
      " 7   Online                   702 non-null    int64  \n",
      " 8   Decision                 474 non-null    float64\n",
      "dtypes: float64(2), int64(6), object(1)\n",
      "memory usage: 49.5+ KB\n"
     ]
    }
   ],
   "source": [
    "# Call info() on your data\n",
    "coffeeData.info()"
   ]
  },
  {
   "cell_type": "code",
   "execution_count": 6,
   "metadata": {
    "colab": {},
    "colab_type": "code",
    "id": "t0ZdmaUeDuVe"
   },
   "outputs": [
    {
     "data": {
      "text/html": [
       "<div>\n",
       "<style scoped>\n",
       "    .dataframe tbody tr th:only-of-type {\n",
       "        vertical-align: middle;\n",
       "    }\n",
       "\n",
       "    .dataframe tbody tr th {\n",
       "        vertical-align: top;\n",
       "    }\n",
       "\n",
       "    .dataframe thead th {\n",
       "        text-align: right;\n",
       "    }\n",
       "</style>\n",
       "<table border=\"1\" class=\"dataframe\">\n",
       "  <thead>\n",
       "    <tr style=\"text-align: right;\">\n",
       "      <th></th>\n",
       "      <th>count</th>\n",
       "      <th>mean</th>\n",
       "      <th>std</th>\n",
       "      <th>min</th>\n",
       "      <th>25%</th>\n",
       "      <th>50%</th>\n",
       "      <th>75%</th>\n",
       "      <th>max</th>\n",
       "    </tr>\n",
       "  </thead>\n",
       "  <tbody>\n",
       "    <tr>\n",
       "      <th>Age</th>\n",
       "      <td>702.0</td>\n",
       "      <td>34.243590</td>\n",
       "      <td>13.927945</td>\n",
       "      <td>16.000000</td>\n",
       "      <td>23.000000</td>\n",
       "      <td>28.000000</td>\n",
       "      <td>46.000000</td>\n",
       "      <td>90.000000</td>\n",
       "    </tr>\n",
       "    <tr>\n",
       "      <th>num_coffeeBags_per_year</th>\n",
       "      <td>702.0</td>\n",
       "      <td>2.710826</td>\n",
       "      <td>1.593629</td>\n",
       "      <td>0.000000</td>\n",
       "      <td>1.000000</td>\n",
       "      <td>3.000000</td>\n",
       "      <td>4.000000</td>\n",
       "      <td>5.000000</td>\n",
       "    </tr>\n",
       "    <tr>\n",
       "      <th>spent_week</th>\n",
       "      <td>702.0</td>\n",
       "      <td>32.853276</td>\n",
       "      <td>15.731878</td>\n",
       "      <td>0.000000</td>\n",
       "      <td>24.250000</td>\n",
       "      <td>36.000000</td>\n",
       "      <td>43.000000</td>\n",
       "      <td>62.000000</td>\n",
       "    </tr>\n",
       "    <tr>\n",
       "      <th>spent_month</th>\n",
       "      <td>702.0</td>\n",
       "      <td>107.923077</td>\n",
       "      <td>55.348485</td>\n",
       "      <td>0.000000</td>\n",
       "      <td>62.000000</td>\n",
       "      <td>113.500000</td>\n",
       "      <td>150.750000</td>\n",
       "      <td>210.000000</td>\n",
       "    </tr>\n",
       "    <tr>\n",
       "      <th>SlrAY</th>\n",
       "      <td>702.0</td>\n",
       "      <td>43819.843305</td>\n",
       "      <td>26192.626943</td>\n",
       "      <td>1617.000000</td>\n",
       "      <td>22812.250000</td>\n",
       "      <td>41975.000000</td>\n",
       "      <td>60223.000000</td>\n",
       "      <td>182058.000000</td>\n",
       "    </tr>\n",
       "    <tr>\n",
       "      <th>Distance</th>\n",
       "      <td>702.0</td>\n",
       "      <td>4.559186</td>\n",
       "      <td>3.116275</td>\n",
       "      <td>0.003168</td>\n",
       "      <td>1.877812</td>\n",
       "      <td>4.196167</td>\n",
       "      <td>6.712022</td>\n",
       "      <td>10.986203</td>\n",
       "    </tr>\n",
       "    <tr>\n",
       "      <th>Online</th>\n",
       "      <td>702.0</td>\n",
       "      <td>0.531339</td>\n",
       "      <td>0.499373</td>\n",
       "      <td>0.000000</td>\n",
       "      <td>0.000000</td>\n",
       "      <td>1.000000</td>\n",
       "      <td>1.000000</td>\n",
       "      <td>1.000000</td>\n",
       "    </tr>\n",
       "    <tr>\n",
       "      <th>Decision</th>\n",
       "      <td>474.0</td>\n",
       "      <td>0.639241</td>\n",
       "      <td>0.480728</td>\n",
       "      <td>0.000000</td>\n",
       "      <td>0.000000</td>\n",
       "      <td>1.000000</td>\n",
       "      <td>1.000000</td>\n",
       "      <td>1.000000</td>\n",
       "    </tr>\n",
       "  </tbody>\n",
       "</table>\n",
       "</div>"
      ],
      "text/plain": [
       "                         count          mean           std          min  \\\n",
       "Age                      702.0     34.243590     13.927945    16.000000   \n",
       "num_coffeeBags_per_year  702.0      2.710826      1.593629     0.000000   \n",
       "spent_week               702.0     32.853276     15.731878     0.000000   \n",
       "spent_month              702.0    107.923077     55.348485     0.000000   \n",
       "SlrAY                    702.0  43819.843305  26192.626943  1617.000000   \n",
       "Distance                 702.0      4.559186      3.116275     0.003168   \n",
       "Online                   702.0      0.531339      0.499373     0.000000   \n",
       "Decision                 474.0      0.639241      0.480728     0.000000   \n",
       "\n",
       "                                  25%           50%           75%  \\\n",
       "Age                         23.000000     28.000000     46.000000   \n",
       "num_coffeeBags_per_year      1.000000      3.000000      4.000000   \n",
       "spent_week                  24.250000     36.000000     43.000000   \n",
       "spent_month                 62.000000    113.500000    150.750000   \n",
       "SlrAY                    22812.250000  41975.000000  60223.000000   \n",
       "Distance                     1.877812      4.196167      6.712022   \n",
       "Online                       0.000000      1.000000      1.000000   \n",
       "Decision                     0.000000      1.000000      1.000000   \n",
       "\n",
       "                                   max  \n",
       "Age                          90.000000  \n",
       "num_coffeeBags_per_year       5.000000  \n",
       "spent_week                   62.000000  \n",
       "spent_month                 210.000000  \n",
       "SlrAY                    182058.000000  \n",
       "Distance                     10.986203  \n",
       "Online                        1.000000  \n",
       "Decision                      1.000000  "
      ]
     },
     "execution_count": 6,
     "metadata": {},
     "output_type": "execute_result"
    }
   ],
   "source": [
    "# Call describe() on your data to get the relevant summary statistics for your data \n",
    "coffeeData.describe().T"
   ]
  },
  {
   "cell_type": "markdown",
   "metadata": {
    "colab_type": "text",
    "id": "INkujJ6QDuVg"
   },
   "source": [
    "# 2. Cleaning, transforming and visualizing\n",
    "## 2a. Cleaning the data"
   ]
  },
  {
   "cell_type": "markdown",
   "metadata": {
    "colab_type": "text",
    "id": "wIMW_rbdDuVh"
   },
   "source": [
    "Some datasets don't require any cleaning, but almost all do. This one does. We need to replace '1.0' and '0.0' in the 'Decision' column by 'YES' and 'NO' respectively, clean up the values of the 'gender' column, and change the column names to words which maximize meaning and clarity. "
   ]
  },
  {
   "cell_type": "markdown",
   "metadata": {
    "colab_type": "text",
    "id": "EEXdBALeDuVi"
   },
   "source": [
    "First, let's change the name of `spent_week`, `spent_month`, and `SlrAY` to `spent_last_week` and `spent_last_month` and `salary` respectively."
   ]
  },
  {
   "cell_type": "code",
   "execution_count": 7,
   "metadata": {
    "colab": {},
    "colab_type": "code",
    "id": "rhxy23pbDuVi"
   },
   "outputs": [
    {
     "data": {
      "text/plain": [
       "Index(['Age', 'Gender', 'num_coffeeBags_per_year', 'spent_week', 'spent_month',\n",
       "       'SlrAY', 'Distance', 'Online', 'Decision'],\n",
       "      dtype='object')"
      ]
     },
     "execution_count": 7,
     "metadata": {},
     "output_type": "execute_result"
    }
   ],
   "source": [
    "# Check out the names of our data's columns \n",
    "coffeeData.columns"
   ]
  },
  {
   "cell_type": "code",
   "execution_count": 8,
   "metadata": {
    "colab": {},
    "colab_type": "code",
    "id": "C_D1m6ryDuVk"
   },
   "outputs": [],
   "source": [
    "# Make the relevant name changes to spent_week and spent_per_week.\n",
    "col_names = {'spent_week': 'spent_last_week',\n",
    "            'spent_month': 'spent_last_month',\n",
    "            'SlrAY': 'salary'}\n",
    "coffeeData = coffeeData.rename(columns=col_names)"
   ]
  },
  {
   "cell_type": "code",
   "execution_count": 9,
   "metadata": {
    "colab": {},
    "colab_type": "code",
    "id": "3cmdaeg8DuVm"
   },
   "outputs": [
    {
     "data": {
      "text/plain": [
       "Index(['Age', 'Gender', 'num_coffeeBags_per_year', 'spent_last_week',\n",
       "       'spent_last_month', 'salary', 'Distance', 'Online', 'Decision'],\n",
       "      dtype='object')"
      ]
     },
     "execution_count": 9,
     "metadata": {},
     "output_type": "execute_result"
    }
   ],
   "source": [
    "# Check out the column names\n",
    "coffeeData.columns"
   ]
  },
  {
   "cell_type": "code",
   "execution_count": 10,
   "metadata": {
    "colab": {},
    "colab_type": "code",
    "id": "XJK-wbfODuVp"
   },
   "outputs": [
    {
     "data": {
      "text/plain": [
       "0     Female\n",
       "1       Male\n",
       "2       Male\n",
       "3       Male\n",
       "4     Female\n",
       "5     female\n",
       "6     Female\n",
       "7     Female\n",
       "8       Male\n",
       "9          F\n",
       "10    Female\n",
       "11    Female\n",
       "12    Female\n",
       "13      Male\n",
       "14      Male\n",
       "15    Female\n",
       "16      Male\n",
       "17      Male\n",
       "18    Female\n",
       "19    Female\n",
       "Name: Gender, dtype: object"
      ]
     },
     "execution_count": 10,
     "metadata": {},
     "output_type": "execute_result"
    }
   ],
   "source": [
    "# Let's have a closer look at the gender column. Its values need cleaning.\n",
    "coffeeData.Gender.head(20)"
   ]
  },
  {
   "cell_type": "code",
   "execution_count": 11,
   "metadata": {
    "colab": {},
    "colab_type": "code",
    "id": "88bITtgzDuVr"
   },
   "outputs": [
    {
     "data": {
      "text/plain": [
       "array(['Female', 'Male', 'female', 'F', 'f ', 'FEMALE', 'MALE', 'male',\n",
       "       'M'], dtype=object)"
      ]
     },
     "execution_count": 11,
     "metadata": {},
     "output_type": "execute_result"
    }
   ],
   "source": [
    "# See the gender column's unique values \n",
    "coffeeData.Gender.unique()"
   ]
  },
  {
   "cell_type": "markdown",
   "metadata": {
    "colab_type": "text",
    "id": "-eGzgGR1DuVt"
   },
   "source": [
    "We can see a bunch of inconsistency here.\n",
    "\n",
    "Use replace() to make the values of the `gender` column just `Female` and `Male`."
   ]
  },
  {
   "cell_type": "code",
   "execution_count": 12,
   "metadata": {
    "colab": {},
    "colab_type": "code",
    "id": "h0FOX3I3DuVu"
   },
   "outputs": [],
   "source": [
    "# Replace all alternate values for the Female entry with 'Female'\n",
    "coffeeData.Gender = coffeeData.Gender.str.strip().str.lower().str.capitalize()\n",
    "coffeeData.Gender = coffeeData.Gender.str.replace('F(?!e)', 'Female', regex=True)"
   ]
  },
  {
   "cell_type": "code",
   "execution_count": 13,
   "metadata": {
    "colab": {},
    "colab_type": "code",
    "id": "5TThfHgCDuVw"
   },
   "outputs": [
    {
     "data": {
      "text/plain": [
       "array(['Female', 'Male', 'M'], dtype=object)"
      ]
     },
     "execution_count": 13,
     "metadata": {},
     "output_type": "execute_result"
    }
   ],
   "source": [
    "# Check out the unique values for the 'gender' column\n",
    "coffeeData.Gender.unique()"
   ]
  },
  {
   "cell_type": "code",
   "execution_count": 14,
   "metadata": {
    "colab": {},
    "colab_type": "code",
    "id": "4wRKBvSHDuVy"
   },
   "outputs": [],
   "source": [
    "# Replace all alternate values with \"Male\"\n",
    "coffeeData.Gender = coffeeData.Gender.str.replace('M(?!a)', 'Male', regex=True)"
   ]
  },
  {
   "cell_type": "code",
   "execution_count": 15,
   "metadata": {
    "colab": {},
    "colab_type": "code",
    "id": "nhBUkXIADuV0"
   },
   "outputs": [
    {
     "data": {
      "text/plain": [
       "array(['Female', 'Male'], dtype=object)"
      ]
     },
     "execution_count": 15,
     "metadata": {},
     "output_type": "execute_result"
    }
   ],
   "source": [
    "# Let's check the unique values of the column \"gender\"\n",
    "coffeeData.Gender.unique()"
   ]
  },
  {
   "cell_type": "code",
   "execution_count": 16,
   "metadata": {
    "colab": {},
    "colab_type": "code",
    "id": "AdhhO4WHDuV2"
   },
   "outputs": [
    {
     "data": {
      "text/plain": [
       "array([ 1., nan,  0.])"
      ]
     },
     "execution_count": 16,
     "metadata": {},
     "output_type": "execute_result"
    }
   ],
   "source": [
    "# Check out the unique values of the column 'Decision'\n",
    "coffeeData.Decision.unique()"
   ]
  },
  {
   "cell_type": "markdown",
   "metadata": {
    "colab_type": "text",
    "id": "m1JuiY-iDuV5"
   },
   "source": [
    "We now want to replace `1.0` and `0.0` in the `Decision` column by `YES` and `NO` respectively."
   ]
  },
  {
   "cell_type": "code",
   "execution_count": 17,
   "metadata": {
    "colab": {},
    "colab_type": "code",
    "id": "QsK6gYPgDuV5"
   },
   "outputs": [],
   "source": [
    "# Replace 1.0 and 0.0 by 'Yes' and 'No'\n",
    "coffeeData.Decision = coffeeData.Decision.replace(1.0, 'YES')\n",
    "coffeeData.Decision = coffeeData.Decision.replace(0.0, 'NO')"
   ]
  },
  {
   "cell_type": "code",
   "execution_count": 18,
   "metadata": {
    "colab": {},
    "colab_type": "code",
    "id": "YtHnTZuWDuV9"
   },
   "outputs": [
    {
     "data": {
      "text/plain": [
       "array(['YES', nan, 'NO'], dtype=object)"
      ]
     },
     "execution_count": 18,
     "metadata": {},
     "output_type": "execute_result"
    }
   ],
   "source": [
    "# Check that our replacing those values with 'YES' and 'NO' worked, with unique()\n",
    "coffeeData.Decision.unique()"
   ]
  },
  {
   "cell_type": "markdown",
   "metadata": {
    "colab_type": "text",
    "id": "CKCt-fBlDuWB"
   },
   "source": [
    "## 2b. Train/test split\n",
    "To execute the train/test split properly, we need to do five things: \n",
    "1. Drop all rows with a null value in the `Decision` column, and save the result as NOPrediction: a dataset that will contain all known values for the decision \n",
    "2. Visualize the data using scatter and boxplots of several variables in the y-axis and the decision on the x-axis\n",
    "3. Get the subset of coffeeData with null values in the `Decision` column, and save that subset as Prediction\n",
    "4. Divide the NOPrediction subset into X and y, and then further divide those subsets into train and test subsets for X and y respectively\n",
    "5. Create dummy variables to deal with categorical inputs"
   ]
  },
  {
   "cell_type": "markdown",
   "metadata": {
    "colab_type": "text",
    "id": "ysHdkIaQDuWB"
   },
   "source": [
    "### 1. Drop all null values within the `Decision` column, and save the result as NoPrediction"
   ]
  },
  {
   "cell_type": "code",
   "execution_count": 19,
   "metadata": {
    "colab": {},
    "colab_type": "code",
    "id": "pvgH6SM4DuWC"
   },
   "outputs": [
    {
     "data": {
      "text/html": [
       "<div>\n",
       "<style scoped>\n",
       "    .dataframe tbody tr th:only-of-type {\n",
       "        vertical-align: middle;\n",
       "    }\n",
       "\n",
       "    .dataframe tbody tr th {\n",
       "        vertical-align: top;\n",
       "    }\n",
       "\n",
       "    .dataframe thead th {\n",
       "        text-align: right;\n",
       "    }\n",
       "</style>\n",
       "<table border=\"1\" class=\"dataframe\">\n",
       "  <thead>\n",
       "    <tr style=\"text-align: right;\">\n",
       "      <th></th>\n",
       "      <th>count</th>\n",
       "      <th>mean</th>\n",
       "      <th>std</th>\n",
       "      <th>min</th>\n",
       "      <th>25%</th>\n",
       "      <th>50%</th>\n",
       "      <th>75%</th>\n",
       "      <th>max</th>\n",
       "    </tr>\n",
       "  </thead>\n",
       "  <tbody>\n",
       "    <tr>\n",
       "      <th>Age</th>\n",
       "      <td>474.0</td>\n",
       "      <td>35.417722</td>\n",
       "      <td>13.604135</td>\n",
       "      <td>16.000000</td>\n",
       "      <td>25.000000</td>\n",
       "      <td>29.000000</td>\n",
       "      <td>49.000000</td>\n",
       "      <td>90.000000</td>\n",
       "    </tr>\n",
       "    <tr>\n",
       "      <th>num_coffeeBags_per_year</th>\n",
       "      <td>474.0</td>\n",
       "      <td>2.590717</td>\n",
       "      <td>1.585211</td>\n",
       "      <td>0.000000</td>\n",
       "      <td>1.000000</td>\n",
       "      <td>3.000000</td>\n",
       "      <td>4.000000</td>\n",
       "      <td>5.000000</td>\n",
       "    </tr>\n",
       "    <tr>\n",
       "      <th>spent_last_week</th>\n",
       "      <td>474.0</td>\n",
       "      <td>32.592827</td>\n",
       "      <td>15.758109</td>\n",
       "      <td>0.000000</td>\n",
       "      <td>24.000000</td>\n",
       "      <td>35.000000</td>\n",
       "      <td>43.000000</td>\n",
       "      <td>62.000000</td>\n",
       "    </tr>\n",
       "    <tr>\n",
       "      <th>spent_last_month</th>\n",
       "      <td>474.0</td>\n",
       "      <td>106.727848</td>\n",
       "      <td>56.101085</td>\n",
       "      <td>0.000000</td>\n",
       "      <td>60.000000</td>\n",
       "      <td>113.500000</td>\n",
       "      <td>150.000000</td>\n",
       "      <td>210.000000</td>\n",
       "    </tr>\n",
       "    <tr>\n",
       "      <th>salary</th>\n",
       "      <td>474.0</td>\n",
       "      <td>44731.892405</td>\n",
       "      <td>25567.674430</td>\n",
       "      <td>3150.000000</td>\n",
       "      <td>27284.250000</td>\n",
       "      <td>42791.500000</td>\n",
       "      <td>61621.750000</td>\n",
       "      <td>172658.000000</td>\n",
       "    </tr>\n",
       "    <tr>\n",
       "      <th>Distance</th>\n",
       "      <td>474.0</td>\n",
       "      <td>5.102898</td>\n",
       "      <td>3.354891</td>\n",
       "      <td>0.003168</td>\n",
       "      <td>2.077965</td>\n",
       "      <td>4.832168</td>\n",
       "      <td>7.869086</td>\n",
       "      <td>10.986203</td>\n",
       "    </tr>\n",
       "    <tr>\n",
       "      <th>Online</th>\n",
       "      <td>474.0</td>\n",
       "      <td>0.512658</td>\n",
       "      <td>0.500368</td>\n",
       "      <td>0.000000</td>\n",
       "      <td>0.000000</td>\n",
       "      <td>1.000000</td>\n",
       "      <td>1.000000</td>\n",
       "      <td>1.000000</td>\n",
       "    </tr>\n",
       "  </tbody>\n",
       "</table>\n",
       "</div>"
      ],
      "text/plain": [
       "                         count          mean           std          min  \\\n",
       "Age                      474.0     35.417722     13.604135    16.000000   \n",
       "num_coffeeBags_per_year  474.0      2.590717      1.585211     0.000000   \n",
       "spent_last_week          474.0     32.592827     15.758109     0.000000   \n",
       "spent_last_month         474.0    106.727848     56.101085     0.000000   \n",
       "salary                   474.0  44731.892405  25567.674430  3150.000000   \n",
       "Distance                 474.0      5.102898      3.354891     0.003168   \n",
       "Online                   474.0      0.512658      0.500368     0.000000   \n",
       "\n",
       "                                  25%           50%           75%  \\\n",
       "Age                         25.000000     29.000000     49.000000   \n",
       "num_coffeeBags_per_year      1.000000      3.000000      4.000000   \n",
       "spent_last_week             24.000000     35.000000     43.000000   \n",
       "spent_last_month            60.000000    113.500000    150.000000   \n",
       "salary                   27284.250000  42791.500000  61621.750000   \n",
       "Distance                     2.077965      4.832168      7.869086   \n",
       "Online                       0.000000      1.000000      1.000000   \n",
       "\n",
       "                                   max  \n",
       "Age                          90.000000  \n",
       "num_coffeeBags_per_year       5.000000  \n",
       "spent_last_week              62.000000  \n",
       "spent_last_month            210.000000  \n",
       "salary                   172658.000000  \n",
       "Distance                     10.986203  \n",
       "Online                        1.000000  "
      ]
     },
     "execution_count": 19,
     "metadata": {},
     "output_type": "execute_result"
    }
   ],
   "source": [
    "# NoPrediction will contain all known values for the decision\n",
    "# Call dropna() on coffeeData, and store the result in a variable NOPrediction \n",
    "# Call describe() on the Decision column of NoPrediction after calling dropna() on coffeeData\n",
    "NOPrediction = coffeeData.dropna().copy()\n",
    "NOPrediction.describe().T"
   ]
  },
  {
   "cell_type": "markdown",
   "metadata": {
    "colab_type": "text",
    "id": "XfTK5Ec6DuWE"
   },
   "source": [
    "### 2. Visualize the data using scatter and boxplots of several variables in the y-axis and the decision on the x-axis"
   ]
  },
  {
   "cell_type": "code",
   "execution_count": 20,
   "metadata": {},
   "outputs": [
    {
     "name": "stdout",
     "output_type": "stream",
     "text": [
      "<class 'pandas.core.frame.DataFrame'>\n",
      "Int64Index: 474 entries, 0 to 701\n",
      "Data columns (total 9 columns):\n",
      " #   Column                   Non-Null Count  Dtype  \n",
      "---  ------                   --------------  -----  \n",
      " 0   Age                      474 non-null    int64  \n",
      " 1   Gender                   474 non-null    object \n",
      " 2   num_coffeeBags_per_year  474 non-null    int64  \n",
      " 3   spent_last_week          474 non-null    int64  \n",
      " 4   spent_last_month         474 non-null    int64  \n",
      " 5   salary                   474 non-null    int64  \n",
      " 6   Distance                 474 non-null    float64\n",
      " 7   Online                   474 non-null    int64  \n",
      " 8   Decision                 474 non-null    object \n",
      "dtypes: float64(1), int64(6), object(2)\n",
      "memory usage: 37.0+ KB\n"
     ]
    }
   ],
   "source": [
    "NOPrediction.info()"
   ]
  },
  {
   "cell_type": "code",
   "execution_count": 21,
   "metadata": {
    "colab": {},
    "colab_type": "code",
    "id": "5O-M-t3tDuWE"
   },
   "outputs": [
    {
     "data": {
      "image/png": "[encoded data removed]",
      "text/plain": [
       "<Figure size 288x360 with 1 Axes>"
      ]
     },
     "metadata": {
      "needs_background": "light"
     },
     "output_type": "display_data"
    }
   ],
   "source": [
    "# Exploring our new NOPrediction dataset\n",
    "# Make a boxplot on NOPrediction where the x axis is Decision, and the y axis is spent_last_week\n",
    "_ = plt.figure(figsize=(4,5))\n",
    "_ = sns.boxplot(x='Decision', y='spent_last_week', data=NOPrediction)\n",
    "_ = plt.tight_layout()"
   ]
  },
  {
   "cell_type": "markdown",
   "metadata": {
    "colab_type": "text",
    "id": "mVqg_HI7DuWG"
   },
   "source": [
    "Can you admissibly conclude anything from this boxplot? Write your answer here:\n",
    "\n",
    "Customer who spent more lat week are more likely to asnwer yes to buying the new coffee."
   ]
  },
  {
   "cell_type": "code",
   "execution_count": 22,
   "metadata": {
    "colab": {},
    "colab_type": "code",
    "id": "q-AyXWSxDuWH"
   },
   "outputs": [
    {
     "data": {
      "image/png": "[encoded data removed]",
      "text/plain": [
       "<Figure size 432x288 with 1 Axes>"
      ]
     },
     "metadata": {
      "needs_background": "light"
     },
     "output_type": "display_data"
    }
   ],
   "source": [
    "# Make a scatterplot on NOPrediction, where x is distance, y is spent_last_month and hue is Decision \n",
    "_ = plt.figure(figsize=(6,4))\n",
    "_ = sns.scatterplot(x='Distance', y='spent_last_month', hue='Decision', data=NOPrediction)\n",
    "_ = plt.tight_layout()"
   ]
  },
  {
   "cell_type": "markdown",
   "metadata": {
    "colab_type": "text",
    "id": "I_nr36yZDuWJ"
   },
   "source": [
    "Can you admissibly conclude anything from this scatterplot? Remember: we are trying to build a tree to classify unseen examples. Write your answer here:\n",
    "\n",
    "There is no correlation between the two variables and the yes/no classes are linearly separable. As the distance increase, people who spent more also answered yes."
   ]
  },
  {
   "cell_type": "markdown",
   "metadata": {
    "colab_type": "text",
    "id": "oQBPyvehDuWK"
   },
   "source": [
    "### 3. Get the subset of coffeeData with null values in the Decision column, and save that subset as Prediction"
   ]
  },
  {
   "cell_type": "code",
   "execution_count": 23,
   "metadata": {
    "colab": {},
    "colab_type": "code",
    "id": "vcCednqUDuWL"
   },
   "outputs": [],
   "source": [
    "# Get just those rows whose value for the Decision column is null  \n",
    "idx_null = coffeeData.Decision.isnull()\n",
    "Prediction = coffeeData.loc[idx_null, coffeeData.columns != 'Decision']"
   ]
  },
  {
   "cell_type": "code",
   "execution_count": 24,
   "metadata": {
    "colab": {},
    "colab_type": "code",
    "id": "aenlmp9NDuWM",
    "scrolled": true
   },
   "outputs": [
    {
     "data": {
      "text/html": [
       "<div>\n",
       "<style scoped>\n",
       "    .dataframe tbody tr th:only-of-type {\n",
       "        vertical-align: middle;\n",
       "    }\n",
       "\n",
       "    .dataframe tbody tr th {\n",
       "        vertical-align: top;\n",
       "    }\n",
       "\n",
       "    .dataframe thead th {\n",
       "        text-align: right;\n",
       "    }\n",
       "</style>\n",
       "<table border=\"1\" class=\"dataframe\">\n",
       "  <thead>\n",
       "    <tr style=\"text-align: right;\">\n",
       "      <th></th>\n",
       "      <th>Age</th>\n",
       "      <th>num_coffeeBags_per_year</th>\n",
       "      <th>spent_last_week</th>\n",
       "      <th>spent_last_month</th>\n",
       "      <th>salary</th>\n",
       "      <th>Distance</th>\n",
       "      <th>Online</th>\n",
       "    </tr>\n",
       "  </thead>\n",
       "  <tbody>\n",
       "    <tr>\n",
       "      <th>count</th>\n",
       "      <td>228.000000</td>\n",
       "      <td>228.000000</td>\n",
       "      <td>228.000000</td>\n",
       "      <td>228.000000</td>\n",
       "      <td>228.000000</td>\n",
       "      <td>228.000000</td>\n",
       "      <td>228.000000</td>\n",
       "    </tr>\n",
       "    <tr>\n",
       "      <th>mean</th>\n",
       "      <td>31.802632</td>\n",
       "      <td>2.960526</td>\n",
       "      <td>33.394737</td>\n",
       "      <td>110.407895</td>\n",
       "      <td>41923.741228</td>\n",
       "      <td>3.428836</td>\n",
       "      <td>0.570175</td>\n",
       "    </tr>\n",
       "    <tr>\n",
       "      <th>std</th>\n",
       "      <td>14.302293</td>\n",
       "      <td>1.585514</td>\n",
       "      <td>15.697930</td>\n",
       "      <td>53.786536</td>\n",
       "      <td>27406.768360</td>\n",
       "      <td>2.153102</td>\n",
       "      <td>0.496140</td>\n",
       "    </tr>\n",
       "    <tr>\n",
       "      <th>min</th>\n",
       "      <td>16.000000</td>\n",
       "      <td>0.000000</td>\n",
       "      <td>0.000000</td>\n",
       "      <td>0.000000</td>\n",
       "      <td>1617.000000</td>\n",
       "      <td>0.010048</td>\n",
       "      <td>0.000000</td>\n",
       "    </tr>\n",
       "    <tr>\n",
       "      <th>25%</th>\n",
       "      <td>22.000000</td>\n",
       "      <td>2.000000</td>\n",
       "      <td>25.750000</td>\n",
       "      <td>65.000000</td>\n",
       "      <td>15911.500000</td>\n",
       "      <td>1.699408</td>\n",
       "      <td>0.000000</td>\n",
       "    </tr>\n",
       "    <tr>\n",
       "      <th>50%</th>\n",
       "      <td>25.000000</td>\n",
       "      <td>3.000000</td>\n",
       "      <td>37.000000</td>\n",
       "      <td>113.500000</td>\n",
       "      <td>40987.500000</td>\n",
       "      <td>3.208673</td>\n",
       "      <td>1.000000</td>\n",
       "    </tr>\n",
       "    <tr>\n",
       "      <th>75%</th>\n",
       "      <td>39.000000</td>\n",
       "      <td>4.000000</td>\n",
       "      <td>44.000000</td>\n",
       "      <td>151.250000</td>\n",
       "      <td>58537.000000</td>\n",
       "      <td>5.261184</td>\n",
       "      <td>1.000000</td>\n",
       "    </tr>\n",
       "    <tr>\n",
       "      <th>max</th>\n",
       "      <td>67.000000</td>\n",
       "      <td>5.000000</td>\n",
       "      <td>62.000000</td>\n",
       "      <td>210.000000</td>\n",
       "      <td>182058.000000</td>\n",
       "      <td>10.871566</td>\n",
       "      <td>1.000000</td>\n",
       "    </tr>\n",
       "  </tbody>\n",
       "</table>\n",
       "</div>"
      ],
      "text/plain": [
       "              Age  num_coffeeBags_per_year  spent_last_week  spent_last_month  \\\n",
       "count  228.000000               228.000000       228.000000        228.000000   \n",
       "mean    31.802632                 2.960526        33.394737        110.407895   \n",
       "std     14.302293                 1.585514        15.697930         53.786536   \n",
       "min     16.000000                 0.000000         0.000000          0.000000   \n",
       "25%     22.000000                 2.000000        25.750000         65.000000   \n",
       "50%     25.000000                 3.000000        37.000000        113.500000   \n",
       "75%     39.000000                 4.000000        44.000000        151.250000   \n",
       "max     67.000000                 5.000000        62.000000        210.000000   \n",
       "\n",
       "              salary    Distance      Online  \n",
       "count     228.000000  228.000000  228.000000  \n",
       "mean    41923.741228    3.428836    0.570175  \n",
       "std     27406.768360    2.153102    0.496140  \n",
       "min      1617.000000    0.010048    0.000000  \n",
       "25%     15911.500000    1.699408    0.000000  \n",
       "50%     40987.500000    3.208673    1.000000  \n",
       "75%     58537.000000    5.261184    1.000000  \n",
       "max    182058.000000   10.871566    1.000000  "
      ]
     },
     "execution_count": 24,
     "metadata": {},
     "output_type": "execute_result"
    }
   ],
   "source": [
    "# Call describe() on Prediction\n",
    "Prediction.describe()"
   ]
  },
  {
   "cell_type": "markdown",
   "metadata": {
    "colab_type": "text",
    "id": "zmN_BPwFDuWO"
   },
   "source": [
    "### 4. Divide the NOPrediction subset into X and y"
   ]
  },
  {
   "cell_type": "code",
   "execution_count": 25,
   "metadata": {
    "colab": {},
    "colab_type": "code",
    "id": "00WtPVYSDuWP"
   },
   "outputs": [
    {
     "data": {
      "text/plain": [
       "Index(['Age', 'Gender', 'num_coffeeBags_per_year', 'spent_last_week',\n",
       "       'spent_last_month', 'salary', 'Distance', 'Online', 'Decision'],\n",
       "      dtype='object')"
      ]
     },
     "execution_count": 25,
     "metadata": {},
     "output_type": "execute_result"
    }
   ],
   "source": [
    "# Check the names of the columns of NOPrediction\n",
    "NOPrediction.columns"
   ]
  },
  {
   "cell_type": "code",
   "execution_count": 26,
   "metadata": {
    "colab": {},
    "colab_type": "code",
    "id": "oPi2gMLfDuWQ"
   },
   "outputs": [],
   "source": [
    "# Let's do our feature selection.\n",
    "# Make a variable called 'features', and a list containing the strings of every column except \"Decision\"\n",
    "features = NOPrediction.columns.tolist()[:-1]\n",
    "# Make an explanatory variable called X, and assign it: NoPrediction[features]\n",
    "X = NOPrediction[features]\n",
    "# Make a dependent variable called y, and assign it: NoPrediction.Decision\n",
    "y = NOPrediction.Decision"
   ]
  },
  {
   "cell_type": "markdown",
   "metadata": {
    "colab_type": "text",
    "id": "R-d3XOv8DuWW"
   },
   "source": [
    "### 5. Create dummy variables to deal with categorical inputs\n",
    "One-hot encoding replaces each unique value of a given column with a new column, and puts a 1 in the new column for a given row just if its initial value for the original column matches the new column. Check out [this resource](https://hackernoon.com/what-is-one-hot-encoding-why-and-when-do-you-have-to-use-it-e3c6186d008f) if you haven't seen one-hot-encoding before. \n",
    "\n",
    "**Note**: We will do this before we do our train/test split as to do it after could mean that some categories only end up in the train or test split of our data by chance and this would then lead to different shapes of data for our `X_train` and `X_test` which could/would cause downstream issues when fitting or predicting using a trained model."
   ]
  },
  {
   "cell_type": "code",
   "execution_count": 27,
   "metadata": {
    "colab": {},
    "colab_type": "code",
    "id": "xXHGDZkZDuWW"
   },
   "outputs": [],
   "source": [
    "# One-hot encode all features in X.\n",
    "X = pd.get_dummies(X, drop_first=True)"
   ]
  },
  {
   "cell_type": "markdown",
   "metadata": {
    "colab_type": "text",
    "id": "Jdn_dHlkDuWS"
   },
   "source": [
    "### 6. Further divide those subsets into train and test subsets for X and y respectively: X_train, X_test, y_train, y_test"
   ]
  },
  {
   "cell_type": "code",
   "execution_count": 28,
   "metadata": {
    "colab": {},
    "colab_type": "code",
    "id": "RqbHQza-DuWT"
   },
   "outputs": [],
   "source": [
    "# Call train_test_split on X, y. Make the test_size = 0.25, and random_state = 246\n",
    "X_train, X_test, y_train, y_test = train_test_split(X, y, test_size=.25, random_state = 246)"
   ]
  },
  {
   "cell_type": "markdown",
   "metadata": {
    "colab_type": "text",
    "id": "nqvyCX-6DuWb"
   },
   "source": [
    "# 3. Modelling\n",
    "It's useful to look at the scikit-learn documentation on decision trees https://scikit-learn.org/stable/modules/tree.html before launching into applying them. If you haven't seen them before, take a look at that link, in particular the section `1.10.5.` "
   ]
  },
  {
   "cell_type": "markdown",
   "metadata": {
    "colab_type": "text",
    "id": "RIm9IN5HDuWc"
   },
   "source": [
    "## Model 1: Entropy model - no max_depth\n",
    "\n",
    "We'll give you a little more guidance here, as the Python is hard to deduce, and scikitlearn takes some getting used to.\n",
    "\n",
    "Theoretically, let's remind ourselves of what's going on with a decision tree implementing an entropy model.\n",
    "\n",
    "Ross Quinlan's **ID3 Algorithm** was one of the first, and one of the most basic, to use entropy as a metric.\n",
    "\n",
    "**Entropy** is a measure of how uncertain we are about which category the data-points fall into at a given point in the tree. The **Information gain** of a specific feature with a threshold (such as 'spent_last_month <= 138.0') is the difference in entropy that exists before and after splitting on that feature; i.e., the information we gain about the categories of the data-points by splitting on that feature and that threshold. \n",
    "\n",
    "Naturally, we want to minimize entropy and maximize information gain. Quinlan's ID3 algorithm is designed to output a tree such that the features at each node, starting from the root, and going all the way down to the leaves, have maximial information gain. We want a tree whose leaves have elements that are *homogeneous*, that is, all of the same category. \n",
    "\n",
    "The first model will be the hardest. Persevere and you'll reap the rewards: you can use almost exactly the same code for the other models. "
   ]
  },
  {
   "cell_type": "code",
   "execution_count": 29,
   "metadata": {
    "colab": {},
    "colab_type": "code",
    "id": "8-gelLDgDuWc",
    "scrolled": false
   },
   "outputs": [
    {
     "data": {
      "text/plain": [
       "DecisionTreeClassifier(criterion='entropy')"
      ]
     },
     "execution_count": 29,
     "metadata": {},
     "output_type": "execute_result"
    }
   ],
   "source": [
    "# Declare a variable called entr_model and use tree.DecisionTreeClassifier. \n",
    "entr_model = tree.DecisionTreeClassifier(criterion = 'entropy', max_depth=None)\n",
    "\n",
    "# Call fit() on entr_model\n",
    "entr_model.fit(X_train, y_train)\n",
    "\n",
    "# Call predict() on entr_model with X_test passed to it, and assign the result to a variable y_pred \n",
    "y_pred = entr_model.predict(X_test) \n",
    "\n",
    "# Call Series on our y_pred variable with the following: pd.Series(y_pred)\n",
    "entr_model_y_pred = pd.Series(y_pred)\n",
    "\n",
    "# Check out entr_model\n",
    "entr_model"
   ]
  },
  {
   "cell_type": "code",
   "execution_count": 30,
   "metadata": {
    "colab": {},
    "colab_type": "code",
    "id": "S4FbHfWnDuWe"
   },
   "outputs": [
    {
     "data": {
      "image/svg+xml": [
       "<?xml version=\"1.0\" encoding=\"UTF-8\" standalone=\"no\"?>\r\n",
       "<!DOCTYPE svg PUBLIC \"-//W3C//DTD SVG 1.1//EN\"\r\n",
       " \"http://www.w3.org/Graphics/SVG/1.1/DTD/svg11.dtd\">\r\n",
       "<!-- Generated by graphviz version 2.38.0 (20140413.2041)\r\n",
       " -->\r\n",
       "<!-- Title: Tree Pages: 1 -->\r\n",
       "<svg width=\"689pt\" height=\"671pt\"\r\n",
       " viewBox=\"0.00 0.00 689.00 671.00\" xmlns=\"http://www.w3.org/2000/svg\" xmlns:xlink=\"http://www.w3.org/1999/xlink\">\r\n",
       "<g id=\"graph0\" class=\"graph\" transform=\"scale(1 1) rotate(0) translate(4 667)\">\r\n",
       "<title>Tree</title>\r\n",
       "<polygon fill=\"white\" stroke=\"none\" points=\"-4,4 -4,-667 685,-667 685,4 -4,4\"/>\r\n",
       "<!-- 0 -->\r\n",
       "<g id=\"node1\" class=\"node\"><title>0</title>\r\n",
       "<polygon fill=\"#abd6f4\" stroke=\"black\" points=\"414,-663 244,-663 244,-580 414,-580 414,-663\"/>\r\n",
       "<text text-anchor=\"middle\" x=\"329\" y=\"-647.8\" font-family=\"Times New Roman,serif\" font-size=\"14.00\">spent_last_month &lt;= 138.0</text>\r\n",
       "<text text-anchor=\"middle\" x=\"329\" y=\"-632.8\" font-family=\"Times New Roman,serif\" font-size=\"14.00\">entropy = 0.948</text>\r\n",
       "<text text-anchor=\"middle\" x=\"329\" y=\"-617.8\" font-family=\"Times New Roman,serif\" font-size=\"14.00\">samples = 355</text>\r\n",
       "<text text-anchor=\"middle\" x=\"329\" y=\"-602.8\" font-family=\"Times New Roman,serif\" font-size=\"14.00\">value = [130, 225]</text>\r\n",
       "<text text-anchor=\"middle\" x=\"329\" y=\"-587.8\" font-family=\"Times New Roman,serif\" font-size=\"14.00\">class = YES</text>\r\n",
       "</g>\r\n",
       "<!-- 1 -->\r\n",
       "<g id=\"node2\" class=\"node\"><title>1</title>\r\n",
       "<polygon fill=\"#fae6d7\" stroke=\"black\" points=\"323.5,-544 204.5,-544 204.5,-461 323.5,-461 323.5,-544\"/>\r\n",
       "<text text-anchor=\"middle\" x=\"264\" y=\"-528.8\" font-family=\"Times New Roman,serif\" font-size=\"14.00\">Distance &lt;= 3.524</text>\r\n",
       "<text text-anchor=\"middle\" x=\"264\" y=\"-513.8\" font-family=\"Times New Roman,serif\" font-size=\"14.00\">entropy = 0.991</text>\r\n",
       "<text text-anchor=\"middle\" x=\"264\" y=\"-498.8\" font-family=\"Times New Roman,serif\" font-size=\"14.00\">samples = 234</text>\r\n",
       "<text text-anchor=\"middle\" x=\"264\" y=\"-483.8\" font-family=\"Times New Roman,serif\" font-size=\"14.00\">value = [130, 104]</text>\r\n",
       "<text text-anchor=\"middle\" x=\"264\" y=\"-468.8\" font-family=\"Times New Roman,serif\" font-size=\"14.00\">class = NO</text>\r\n",
       "</g>\r\n",
       "<!-- 0&#45;&gt;1 -->\r\n",
       "<g id=\"edge1\" class=\"edge\"><title>0&#45;&gt;1</title>\r\n",
       "<path fill=\"none\" stroke=\"black\" d=\"M306.449,-579.907C301.609,-571.195 296.443,-561.897 291.441,-552.893\"/>\r\n",
       "<polygon fill=\"black\" stroke=\"black\" points=\"294.428,-551.063 286.512,-544.021 288.308,-554.462 294.428,-551.063\"/>\r\n",
       "<text text-anchor=\"middle\" x=\"279.644\" y=\"-564.359\" font-family=\"Times New Roman,serif\" font-size=\"14.00\">True</text>\r\n",
       "</g>\r\n",
       "<!-- 16 -->\r\n",
       "<g id=\"node17\" class=\"node\"><title>16</title>\r\n",
       "<polygon fill=\"#399de5\" stroke=\"black\" points=\"446,-536.5 342,-536.5 342,-468.5 446,-468.5 446,-536.5\"/>\r\n",
       "<text text-anchor=\"middle\" x=\"394\" y=\"-521.3\" font-family=\"Times New Roman,serif\" font-size=\"14.00\">entropy = 0.0</text>\r\n",
       "<text text-anchor=\"middle\" x=\"394\" y=\"-506.3\" font-family=\"Times New Roman,serif\" font-size=\"14.00\">samples = 121</text>\r\n",
       "<text text-anchor=\"middle\" x=\"394\" y=\"-491.3\" font-family=\"Times New Roman,serif\" font-size=\"14.00\">value = [0, 121]</text>\r\n",
       "<text text-anchor=\"middle\" x=\"394\" y=\"-476.3\" font-family=\"Times New Roman,serif\" font-size=\"14.00\">class = YES</text>\r\n",
       "</g>\r\n",
       "<!-- 0&#45;&gt;16 -->\r\n",
       "<g id=\"edge16\" class=\"edge\"><title>0&#45;&gt;16</title>\r\n",
       "<path fill=\"none\" stroke=\"black\" d=\"M351.551,-579.907C357.743,-568.763 364.468,-556.658 370.7,-545.439\"/>\r\n",
       "<polygon fill=\"black\" stroke=\"black\" points=\"373.777,-547.108 375.574,-536.667 367.658,-543.709 373.777,-547.108\"/>\r\n",
       "<text text-anchor=\"middle\" x=\"382.442\" y=\"-557.005\" font-family=\"Times New Roman,serif\" font-size=\"14.00\">False</text>\r\n",
       "</g>\r\n",
       "<!-- 2 -->\r\n",
       "<g id=\"node3\" class=\"node\"><title>2</title>\r\n",
       "<polygon fill=\"#52aae8\" stroke=\"black\" points=\"245,-425 81,-425 81,-342 245,-342 245,-425\"/>\r\n",
       "<text text-anchor=\"middle\" x=\"163\" y=\"-409.8\" font-family=\"Times New Roman,serif\" font-size=\"14.00\">spent_last_month &lt;= 24.5</text>\r\n",
       "<text text-anchor=\"middle\" x=\"163\" y=\"-394.8\" font-family=\"Times New Roman,serif\" font-size=\"14.00\">entropy = 0.512</text>\r\n",
       "<text text-anchor=\"middle\" x=\"163\" y=\"-379.8\" font-family=\"Times New Roman,serif\" font-size=\"14.00\">samples = 79</text>\r\n",
       "<text text-anchor=\"middle\" x=\"163\" y=\"-364.8\" font-family=\"Times New Roman,serif\" font-size=\"14.00\">value = [9, 70]</text>\r\n",
       "<text text-anchor=\"middle\" x=\"163\" y=\"-349.8\" font-family=\"Times New Roman,serif\" font-size=\"14.00\">class = YES</text>\r\n",
       "</g>\r\n",
       "<!-- 1&#45;&gt;2 -->\r\n",
       "<g id=\"edge2\" class=\"edge\"><title>1&#45;&gt;2</title>\r\n",
       "<path fill=\"none\" stroke=\"black\" d=\"M228.959,-460.907C221.124,-451.832 212.741,-442.121 204.669,-432.769\"/>\r\n",
       "<polygon fill=\"black\" stroke=\"black\" points=\"207.163,-430.303 197.98,-425.021 201.865,-434.878 207.163,-430.303\"/>\r\n",
       "</g>\r\n",
       "<!-- 7 -->\r\n",
       "<g id=\"node8\" class=\"node\"><title>7</title>\r\n",
       "<polygon fill=\"#eca471\" stroke=\"black\" points=\"451,-425 281,-425 281,-342 451,-342 451,-425\"/>\r\n",
       "<text text-anchor=\"middle\" x=\"366\" y=\"-409.8\" font-family=\"Times New Roman,serif\" font-size=\"14.00\">spent_last_month &lt;= 101.0</text>\r\n",
       "<text text-anchor=\"middle\" x=\"366\" y=\"-394.8\" font-family=\"Times New Roman,serif\" font-size=\"14.00\">entropy = 0.759</text>\r\n",
       "<text text-anchor=\"middle\" x=\"366\" y=\"-379.8\" font-family=\"Times New Roman,serif\" font-size=\"14.00\">samples = 155</text>\r\n",
       "<text text-anchor=\"middle\" x=\"366\" y=\"-364.8\" font-family=\"Times New Roman,serif\" font-size=\"14.00\">value = [121, 34]</text>\r\n",
       "<text text-anchor=\"middle\" x=\"366\" y=\"-349.8\" font-family=\"Times New Roman,serif\" font-size=\"14.00\">class = NO</text>\r\n",
       "</g>\r\n",
       "<!-- 1&#45;&gt;7 -->\r\n",
       "<g id=\"edge7\" class=\"edge\"><title>1&#45;&gt;7</title>\r\n",
       "<path fill=\"none\" stroke=\"black\" d=\"M299.388,-460.907C307.3,-451.832 315.766,-442.121 323.919,-432.769\"/>\r\n",
       "<polygon fill=\"black\" stroke=\"black\" points=\"326.741,-434.859 330.674,-425.021 321.465,-430.259 326.741,-434.859\"/>\r\n",
       "</g>\r\n",
       "<!-- 3 -->\r\n",
       "<g id=\"node4\" class=\"node\"><title>3</title>\r\n",
       "<polygon fill=\"#e58139\" stroke=\"black\" points=\"92,-298.5 0,-298.5 0,-230.5 92,-230.5 92,-298.5\"/>\r\n",
       "<text text-anchor=\"middle\" x=\"46\" y=\"-283.3\" font-family=\"Times New Roman,serif\" font-size=\"14.00\">entropy = 0.0</text>\r\n",
       "<text text-anchor=\"middle\" x=\"46\" y=\"-268.3\" font-family=\"Times New Roman,serif\" font-size=\"14.00\">samples = 8</text>\r\n",
       "<text text-anchor=\"middle\" x=\"46\" y=\"-253.3\" font-family=\"Times New Roman,serif\" font-size=\"14.00\">value = [8, 0]</text>\r\n",
       "<text text-anchor=\"middle\" x=\"46\" y=\"-238.3\" font-family=\"Times New Roman,serif\" font-size=\"14.00\">class = NO</text>\r\n",
       "</g>\r\n",
       "<!-- 2&#45;&gt;3 -->\r\n",
       "<g id=\"edge3\" class=\"edge\"><title>2&#45;&gt;3</title>\r\n",
       "<path fill=\"none\" stroke=\"black\" d=\"M122.407,-341.907C110.711,-330.211 97.9573,-317.457 86.2797,-305.78\"/>\r\n",
       "<polygon fill=\"black\" stroke=\"black\" points=\"88.7129,-303.263 79.1669,-298.667 83.7632,-308.213 88.7129,-303.263\"/>\r\n",
       "</g>\r\n",
       "<!-- 4 -->\r\n",
       "<g id=\"node5\" class=\"node\"><title>4</title>\r\n",
       "<polygon fill=\"#3c9ee5\" stroke=\"black\" points=\"216,-306 110,-306 110,-223 216,-223 216,-306\"/>\r\n",
       "<text text-anchor=\"middle\" x=\"163\" y=\"-290.8\" font-family=\"Times New Roman,serif\" font-size=\"14.00\">Age &lt;= 59.0</text>\r\n",
       "<text text-anchor=\"middle\" x=\"163\" y=\"-275.8\" font-family=\"Times New Roman,serif\" font-size=\"14.00\">entropy = 0.107</text>\r\n",
       "<text text-anchor=\"middle\" x=\"163\" y=\"-260.8\" font-family=\"Times New Roman,serif\" font-size=\"14.00\">samples = 71</text>\r\n",
       "<text text-anchor=\"middle\" x=\"163\" y=\"-245.8\" font-family=\"Times New Roman,serif\" font-size=\"14.00\">value = [1, 70]</text>\r\n",
       "<text text-anchor=\"middle\" x=\"163\" y=\"-230.8\" font-family=\"Times New Roman,serif\" font-size=\"14.00\">class = YES</text>\r\n",
       "</g>\r\n",
       "<!-- 2&#45;&gt;4 -->\r\n",
       "<g id=\"edge4\" class=\"edge\"><title>2&#45;&gt;4</title>\r\n",
       "<path fill=\"none\" stroke=\"black\" d=\"M163,-341.907C163,-333.649 163,-324.864 163,-316.302\"/>\r\n",
       "<polygon fill=\"black\" stroke=\"black\" points=\"166.5,-316.021 163,-306.021 159.5,-316.021 166.5,-316.021\"/>\r\n",
       "</g>\r\n",
       "<!-- 5 -->\r\n",
       "<g id=\"node6\" class=\"node\"><title>5</title>\r\n",
       "<polygon fill=\"#399de5\" stroke=\"black\" points=\"99,-179.5 1,-179.5 1,-111.5 99,-111.5 99,-179.5\"/>\r\n",
       "<text text-anchor=\"middle\" x=\"50\" y=\"-164.3\" font-family=\"Times New Roman,serif\" font-size=\"14.00\">entropy = 0.0</text>\r\n",
       "<text text-anchor=\"middle\" x=\"50\" y=\"-149.3\" font-family=\"Times New Roman,serif\" font-size=\"14.00\">samples = 70</text>\r\n",
       "<text text-anchor=\"middle\" x=\"50\" y=\"-134.3\" font-family=\"Times New Roman,serif\" font-size=\"14.00\">value = [0, 70]</text>\r\n",
       "<text text-anchor=\"middle\" x=\"50\" y=\"-119.3\" font-family=\"Times New Roman,serif\" font-size=\"14.00\">class = YES</text>\r\n",
       "</g>\r\n",
       "<!-- 4&#45;&gt;5 -->\r\n",
       "<g id=\"edge5\" class=\"edge\"><title>4&#45;&gt;5</title>\r\n",
       "<path fill=\"none\" stroke=\"black\" d=\"M123.795,-222.907C112.605,-211.321 100.413,-198.698 89.2221,-187.111\"/>\r\n",
       "<polygon fill=\"black\" stroke=\"black\" points=\"91.4976,-184.428 82.033,-179.667 86.4626,-189.291 91.4976,-184.428\"/>\r\n",
       "</g>\r\n",
       "<!-- 6 -->\r\n",
       "<g id=\"node7\" class=\"node\"><title>6</title>\r\n",
       "<polygon fill=\"#e58139\" stroke=\"black\" points=\"209,-179.5 117,-179.5 117,-111.5 209,-111.5 209,-179.5\"/>\r\n",
       "<text text-anchor=\"middle\" x=\"163\" y=\"-164.3\" font-family=\"Times New Roman,serif\" font-size=\"14.00\">entropy = 0.0</text>\r\n",
       "<text text-anchor=\"middle\" x=\"163\" y=\"-149.3\" font-family=\"Times New Roman,serif\" font-size=\"14.00\">samples = 1</text>\r\n",
       "<text text-anchor=\"middle\" x=\"163\" y=\"-134.3\" font-family=\"Times New Roman,serif\" font-size=\"14.00\">value = [1, 0]</text>\r\n",
       "<text text-anchor=\"middle\" x=\"163\" y=\"-119.3\" font-family=\"Times New Roman,serif\" font-size=\"14.00\">class = NO</text>\r\n",
       "</g>\r\n",
       "<!-- 4&#45;&gt;6 -->\r\n",
       "<g id=\"edge6\" class=\"edge\"><title>4&#45;&gt;6</title>\r\n",
       "<path fill=\"none\" stroke=\"black\" d=\"M163,-222.907C163,-212.204 163,-200.615 163,-189.776\"/>\r\n",
       "<polygon fill=\"black\" stroke=\"black\" points=\"166.5,-189.667 163,-179.667 159.5,-189.667 166.5,-189.667\"/>\r\n",
       "</g>\r\n",
       "<!-- 8 -->\r\n",
       "<g id=\"node9\" class=\"node\"><title>8</title>\r\n",
       "<polygon fill=\"#e6853f\" stroke=\"black\" points=\"419,-306 313,-306 313,-223 419,-223 419,-306\"/>\r\n",
       "<text text-anchor=\"middle\" x=\"366\" y=\"-290.8\" font-family=\"Times New Roman,serif\" font-size=\"14.00\">Distance &lt;= 4.0</text>\r\n",
       "<text text-anchor=\"middle\" x=\"366\" y=\"-275.8\" font-family=\"Times New Roman,serif\" font-size=\"14.00\">entropy = 0.191</text>\r\n",
       "<text text-anchor=\"middle\" x=\"366\" y=\"-260.8\" font-family=\"Times New Roman,serif\" font-size=\"14.00\">samples = 102</text>\r\n",
       "<text text-anchor=\"middle\" x=\"366\" y=\"-245.8\" font-family=\"Times New Roman,serif\" font-size=\"14.00\">value = [99, 3]</text>\r\n",
       "<text text-anchor=\"middle\" x=\"366\" y=\"-230.8\" font-family=\"Times New Roman,serif\" font-size=\"14.00\">class = NO</text>\r\n",
       "</g>\r\n",
       "<!-- 7&#45;&gt;8 -->\r\n",
       "<g id=\"edge8\" class=\"edge\"><title>7&#45;&gt;8</title>\r\n",
       "<path fill=\"none\" stroke=\"black\" d=\"M366,-341.907C366,-333.649 366,-324.864 366,-316.302\"/>\r\n",
       "<polygon fill=\"black\" stroke=\"black\" points=\"369.5,-316.021 366,-306.021 362.5,-316.021 369.5,-316.021\"/>\r\n",
       "</g>\r\n",
       "<!-- 13 -->\r\n",
       "<g id=\"node14\" class=\"node\"><title>13</title>\r\n",
       "<polygon fill=\"#c6e3f7\" stroke=\"black\" points=\"575.5,-306 456.5,-306 456.5,-223 575.5,-223 575.5,-306\"/>\r\n",
       "<text text-anchor=\"middle\" x=\"516\" y=\"-290.8\" font-family=\"Times New Roman,serif\" font-size=\"14.00\">Distance &lt;= 7.887</text>\r\n",
       "<text text-anchor=\"middle\" x=\"516\" y=\"-275.8\" font-family=\"Times New Roman,serif\" font-size=\"14.00\">entropy = 0.979</text>\r\n",
       "<text text-anchor=\"middle\" x=\"516\" y=\"-260.8\" font-family=\"Times New Roman,serif\" font-size=\"14.00\">samples = 53</text>\r\n",
       "<text text-anchor=\"middle\" x=\"516\" y=\"-245.8\" font-family=\"Times New Roman,serif\" font-size=\"14.00\">value = [22, 31]</text>\r\n",
       "<text text-anchor=\"middle\" x=\"516\" y=\"-230.8\" font-family=\"Times New Roman,serif\" font-size=\"14.00\">class = YES</text>\r\n",
       "</g>\r\n",
       "<!-- 7&#45;&gt;13 -->\r\n",
       "<g id=\"edge13\" class=\"edge\"><title>7&#45;&gt;13</title>\r\n",
       "<path fill=\"none\" stroke=\"black\" d=\"M418.042,-341.907C430.258,-332.379 443.374,-322.148 455.911,-312.37\"/>\r\n",
       "<polygon fill=\"black\" stroke=\"black\" points=\"458.318,-314.931 464.05,-306.021 454.013,-309.411 458.318,-314.931\"/>\r\n",
       "</g>\r\n",
       "<!-- 9 -->\r\n",
       "<g id=\"node10\" class=\"node\"><title>9</title>\r\n",
       "<polygon fill=\"#f8e0ce\" stroke=\"black\" points=\"333,-187 227,-187 227,-104 333,-104 333,-187\"/>\r\n",
       "<text text-anchor=\"middle\" x=\"280\" y=\"-171.8\" font-family=\"Times New Roman,serif\" font-size=\"14.00\">Age &lt;= 26.5</text>\r\n",
       "<text text-anchor=\"middle\" x=\"280\" y=\"-156.8\" font-family=\"Times New Roman,serif\" font-size=\"14.00\">entropy = 0.985</text>\r\n",
       "<text text-anchor=\"middle\" x=\"280\" y=\"-141.8\" font-family=\"Times New Roman,serif\" font-size=\"14.00\">samples = 7</text>\r\n",
       "<text text-anchor=\"middle\" x=\"280\" y=\"-126.8\" font-family=\"Times New Roman,serif\" font-size=\"14.00\">value = [4, 3]</text>\r\n",
       "<text text-anchor=\"middle\" x=\"280\" y=\"-111.8\" font-family=\"Times New Roman,serif\" font-size=\"14.00\">class = NO</text>\r\n",
       "</g>\r\n",
       "<!-- 8&#45;&gt;9 -->\r\n",
       "<g id=\"edge9\" class=\"edge\"><title>8&#45;&gt;9</title>\r\n",
       "<path fill=\"none\" stroke=\"black\" d=\"M336.163,-222.907C329.626,-214.014 322.639,-204.509 315.893,-195.331\"/>\r\n",
       "<polygon fill=\"black\" stroke=\"black\" points=\"318.527,-193.005 309.785,-187.021 312.887,-197.151 318.527,-193.005\"/>\r\n",
       "</g>\r\n",
       "<!-- 12 -->\r\n",
       "<g id=\"node13\" class=\"node\"><title>12</title>\r\n",
       "<polygon fill=\"#e58139\" stroke=\"black\" points=\"449,-179.5 351,-179.5 351,-111.5 449,-111.5 449,-179.5\"/>\r\n",
       "<text text-anchor=\"middle\" x=\"400\" y=\"-164.3\" font-family=\"Times New Roman,serif\" font-size=\"14.00\">entropy = 0.0</text>\r\n",
       "<text text-anchor=\"middle\" x=\"400\" y=\"-149.3\" font-family=\"Times New Roman,serif\" font-size=\"14.00\">samples = 95</text>\r\n",
       "<text text-anchor=\"middle\" x=\"400\" y=\"-134.3\" font-family=\"Times New Roman,serif\" font-size=\"14.00\">value = [95, 0]</text>\r\n",
       "<text text-anchor=\"middle\" x=\"400\" y=\"-119.3\" font-family=\"Times New Roman,serif\" font-size=\"14.00\">class = NO</text>\r\n",
       "</g>\r\n",
       "<!-- 8&#45;&gt;12 -->\r\n",
       "<g id=\"edge12\" class=\"edge\"><title>8&#45;&gt;12</title>\r\n",
       "<path fill=\"none\" stroke=\"black\" d=\"M377.796,-222.907C380.939,-212.094 384.344,-200.376 387.521,-189.441\"/>\r\n",
       "<polygon fill=\"black\" stroke=\"black\" points=\"390.932,-190.246 390.362,-179.667 384.21,-188.293 390.932,-190.246\"/>\r\n",
       "</g>\r\n",
       "<!-- 10 -->\r\n",
       "<g id=\"node11\" class=\"node\"><title>10</title>\r\n",
       "<polygon fill=\"#399de5\" stroke=\"black\" points=\"271,-68 179,-68 179,-0 271,-0 271,-68\"/>\r\n",
       "<text text-anchor=\"middle\" x=\"225\" y=\"-52.8\" font-family=\"Times New Roman,serif\" font-size=\"14.00\">entropy = 0.0</text>\r\n",
       "<text text-anchor=\"middle\" x=\"225\" y=\"-37.8\" font-family=\"Times New Roman,serif\" font-size=\"14.00\">samples = 3</text>\r\n",
       "<text text-anchor=\"middle\" x=\"225\" y=\"-22.8\" font-family=\"Times New Roman,serif\" font-size=\"14.00\">value = [0, 3]</text>\r\n",
       "<text text-anchor=\"middle\" x=\"225\" y=\"-7.8\" font-family=\"Times New Roman,serif\" font-size=\"14.00\">class = YES</text>\r\n",
       "</g>\r\n",
       "<!-- 9&#45;&gt;10 -->\r\n",
       "<g id=\"edge10\" class=\"edge\"><title>9&#45;&gt;10</title>\r\n",
       "<path fill=\"none\" stroke=\"black\" d=\"M259.52,-103.726C255.214,-95.1527 250.661,-86.0891 246.325,-77.4555\"/>\r\n",
       "<polygon fill=\"black\" stroke=\"black\" points=\"249.342,-75.6647 241.726,-68.2996 243.087,-78.8067 249.342,-75.6647\"/>\r\n",
       "</g>\r\n",
       "<!-- 11 -->\r\n",
       "<g id=\"node12\" class=\"node\"><title>11</title>\r\n",
       "<polygon fill=\"#e58139\" stroke=\"black\" points=\"381,-68 289,-68 289,-0 381,-0 381,-68\"/>\r\n",
       "<text text-anchor=\"middle\" x=\"335\" y=\"-52.8\" font-family=\"Times New Roman,serif\" font-size=\"14.00\">entropy = 0.0</text>\r\n",
       "<text text-anchor=\"middle\" x=\"335\" y=\"-37.8\" font-family=\"Times New Roman,serif\" font-size=\"14.00\">samples = 4</text>\r\n",
       "<text text-anchor=\"middle\" x=\"335\" y=\"-22.8\" font-family=\"Times New Roman,serif\" font-size=\"14.00\">value = [4, 0]</text>\r\n",
       "<text text-anchor=\"middle\" x=\"335\" y=\"-7.8\" font-family=\"Times New Roman,serif\" font-size=\"14.00\">class = NO</text>\r\n",
       "</g>\r\n",
       "<!-- 9&#45;&gt;11 -->\r\n",
       "<g id=\"edge11\" class=\"edge\"><title>9&#45;&gt;11</title>\r\n",
       "<path fill=\"none\" stroke=\"black\" d=\"M300.48,-103.726C304.786,-95.1527 309.339,-86.0891 313.675,-77.4555\"/>\r\n",
       "<polygon fill=\"black\" stroke=\"black\" points=\"316.913,-78.8067 318.274,-68.2996 310.658,-75.6647 316.913,-78.8067\"/>\r\n",
       "</g>\r\n",
       "<!-- 14 -->\r\n",
       "<g id=\"node15\" class=\"node\"><title>14</title>\r\n",
       "<polygon fill=\"#399de5\" stroke=\"black\" points=\"565,-179.5 467,-179.5 467,-111.5 565,-111.5 565,-179.5\"/>\r\n",
       "<text text-anchor=\"middle\" x=\"516\" y=\"-164.3\" font-family=\"Times New Roman,serif\" font-size=\"14.00\">entropy = 0.0</text>\r\n",
       "<text text-anchor=\"middle\" x=\"516\" y=\"-149.3\" font-family=\"Times New Roman,serif\" font-size=\"14.00\">samples = 31</text>\r\n",
       "<text text-anchor=\"middle\" x=\"516\" y=\"-134.3\" font-family=\"Times New Roman,serif\" font-size=\"14.00\">value = [0, 31]</text>\r\n",
       "<text text-anchor=\"middle\" x=\"516\" y=\"-119.3\" font-family=\"Times New Roman,serif\" font-size=\"14.00\">class = YES</text>\r\n",
       "</g>\r\n",
       "<!-- 13&#45;&gt;14 -->\r\n",
       "<g id=\"edge14\" class=\"edge\"><title>13&#45;&gt;14</title>\r\n",
       "<path fill=\"none\" stroke=\"black\" d=\"M516,-222.907C516,-212.204 516,-200.615 516,-189.776\"/>\r\n",
       "<polygon fill=\"black\" stroke=\"black\" points=\"519.5,-189.667 516,-179.667 512.5,-189.667 519.5,-189.667\"/>\r\n",
       "</g>\r\n",
       "<!-- 15 -->\r\n",
       "<g id=\"node16\" class=\"node\"><title>15</title>\r\n",
       "<polygon fill=\"#e58139\" stroke=\"black\" points=\"681,-179.5 583,-179.5 583,-111.5 681,-111.5 681,-179.5\"/>\r\n",
       "<text text-anchor=\"middle\" x=\"632\" y=\"-164.3\" font-family=\"Times New Roman,serif\" font-size=\"14.00\">entropy = 0.0</text>\r\n",
       "<text text-anchor=\"middle\" x=\"632\" y=\"-149.3\" font-family=\"Times New Roman,serif\" font-size=\"14.00\">samples = 22</text>\r\n",
       "<text text-anchor=\"middle\" x=\"632\" y=\"-134.3\" font-family=\"Times New Roman,serif\" font-size=\"14.00\">value = [22, 0]</text>\r\n",
       "<text text-anchor=\"middle\" x=\"632\" y=\"-119.3\" font-family=\"Times New Roman,serif\" font-size=\"14.00\">class = NO</text>\r\n",
       "</g>\r\n",
       "<!-- 13&#45;&gt;15 -->\r\n",
       "<g id=\"edge15\" class=\"edge\"><title>13&#45;&gt;15</title>\r\n",
       "<path fill=\"none\" stroke=\"black\" d=\"M556.246,-222.907C567.842,-211.211 580.487,-198.457 592.065,-186.78\"/>\r\n",
       "<polygon fill=\"black\" stroke=\"black\" points=\"594.561,-189.233 599.117,-179.667 589.59,-184.304 594.561,-189.233\"/>\r\n",
       "</g>\r\n",
       "</g>\r\n",
       "</svg>\r\n"
      ],
      "text/plain": [
       "<graphviz.files.Source at 0x1ae3776d7f0>"
      ]
     },
     "execution_count": 30,
     "metadata": {},
     "output_type": "execute_result"
    }
   ],
   "source": [
    "# Now we want to visualize the tree\n",
    "import graphviz\n",
    "\n",
    "# We can do so with export_graphviz\n",
    "tree_graph = tree.export_graphviz(entr_model, out_file=None, \n",
    "                                  feature_names=X_train.columns,  \n",
    "                                  class_names=entr_model.classes_, # ascending order\n",
    "                                  filled=True)\n",
    "graph = graphviz.Source(tree_graph , format=\"png\") \n",
    "graph\n",
    "\n",
    "# Alternatively for class_names use entr_model.classes_\n",
    "#entr_model.classes_"
   ]
  },
  {
   "cell_type": "markdown",
   "metadata": {
    "colab_type": "text",
    "id": "dFbii4IADuWg"
   },
   "source": [
    "## Model 1: Entropy model - no max_depth: Interpretation and evaluation"
   ]
  },
  {
   "cell_type": "code",
   "execution_count": 31,
   "metadata": {
    "colab": {},
    "colab_type": "code",
    "id": "XRL0klK4DuWh"
   },
   "outputs": [
    {
     "name": "stdout",
     "output_type": "stream",
     "text": [
      "Model Entropy - no max depth\n",
      "Accuracy: 0.9915966386554622\n",
      "Balanced accuracy: 0.9878048780487805\n",
      "Precision score for \"Yes\" 0.9873417721518988\n",
      "Precision score for \"No\" 1.0\n",
      "Recall score for \"Yes\" 1.0\n",
      "Recall score for \"No\" 0.975609756097561\n"
     ]
    }
   ],
   "source": [
    "# Run this block for model evaluation metrics \n",
    "print(\"Model Entropy - no max depth\")\n",
    "print(\"Accuracy:\", metrics.accuracy_score(y_test,y_pred))\n",
    "print(\"Balanced accuracy:\", metrics.balanced_accuracy_score(y_test,y_pred))\n",
    "print('Precision score for \"Yes\"' , metrics.precision_score(y_test,y_pred, pos_label = \"YES\"))\n",
    "print('Precision score for \"No\"' , metrics.precision_score(y_test,y_pred, pos_label = \"NO\"))\n",
    "print('Recall score for \"Yes\"' , metrics.recall_score(y_test,y_pred, pos_label = \"YES\"))\n",
    "print('Recall score for \"No\"' , metrics.recall_score(y_test,y_pred, pos_label = \"NO\"))"
   ]
  },
  {
   "cell_type": "markdown",
   "metadata": {
    "colab_type": "text",
    "id": "icGOPFQ_DuWj"
   },
   "source": [
    "What can you infer from these results? Write your conclusions here:"
   ]
  },
  {
   "cell_type": "markdown",
   "metadata": {
    "colab_type": "text",
    "id": "MHipdpfxDuWk"
   },
   "source": [
    "## Model 2: Gini impurity model - no max_depth\n",
    "\n",
    "Gini impurity, like entropy, is a measure of how well a given feature (and threshold) splits the data into categories.\n",
    "\n",
    "Their equations are similar, but Gini impurity doesn't require logorathmic functions, which can be computationally expensive. "
   ]
  },
  {
   "cell_type": "code",
   "execution_count": 32,
   "metadata": {
    "colab": {},
    "colab_type": "code",
    "id": "FyBljeIpDuWl"
   },
   "outputs": [
    {
     "data": {
      "text/plain": [
       "DecisionTreeClassifier()"
      ]
     },
     "execution_count": 32,
     "metadata": {},
     "output_type": "execute_result"
    }
   ],
   "source": [
    "# Make a variable called gini_model, and assign it exactly what you assigned entr_model with above, but with the\n",
    "# criterion changed to 'gini'\n",
    "gini_model = tree.DecisionTreeClassifier(criterion = 'gini', max_depth=None)\n",
    "\n",
    "# Call fit() on the gini_model as you did with the entr_model\n",
    "gini_model.fit(X_train, y_train)\n",
    "\n",
    "# Call predict() on the gini_model as you did with the entr_model \n",
    "y_pred = gini_model.predict(X_test)\n",
    "\n",
    "# Turn y_pred into a series, as before\n",
    "gini_model_y_pred = pd.Series(y_pred)\n",
    "  \n",
    "# Check out gini_model\n",
    "gini_model"
   ]
  },
  {
   "cell_type": "code",
   "execution_count": 33,
   "metadata": {
    "colab": {},
    "colab_type": "code",
    "id": "d20SMUmgDuWo"
   },
   "outputs": [
    {
     "data": {
      "image/svg+xml": [
       "<?xml version=\"1.0\" encoding=\"UTF-8\" standalone=\"no\"?>\r\n",
       "<!DOCTYPE svg PUBLIC \"-//W3C//DTD SVG 1.1//EN\"\r\n",
       " \"http://www.w3.org/Graphics/SVG/1.1/DTD/svg11.dtd\">\r\n",
       "<!-- Generated by graphviz version 2.38.0 (20140413.2041)\r\n",
       " -->\r\n",
       "<!-- Title: Tree Pages: 1 -->\r\n",
       "<svg width=\"864pt\" height=\"790pt\"\r\n",
       " viewBox=\"0.00 0.00 864.00 790.00\" xmlns=\"http://www.w3.org/2000/svg\" xmlns:xlink=\"http://www.w3.org/1999/xlink\">\r\n",
       "<g id=\"graph0\" class=\"graph\" transform=\"scale(1 1) rotate(0) translate(4 786)\">\r\n",
       "<title>Tree</title>\r\n",
       "<polygon fill=\"white\" stroke=\"none\" points=\"-4,4 -4,-786 860,-786 860,4 -4,4\"/>\r\n",
       "<!-- 0 -->\r\n",
       "<g id=\"node1\" class=\"node\"><title>0</title>\r\n",
       "<polygon fill=\"#abd6f4\" stroke=\"black\" points=\"554,-782 384,-782 384,-699 554,-699 554,-782\"/>\r\n",
       "<text text-anchor=\"middle\" x=\"469\" y=\"-766.8\" font-family=\"Times New Roman,serif\" font-size=\"14.00\">spent_last_month &lt;= 100.5</text>\r\n",
       "<text text-anchor=\"middle\" x=\"469\" y=\"-751.8\" font-family=\"Times New Roman,serif\" font-size=\"14.00\">gini = 0.464</text>\r\n",
       "<text text-anchor=\"middle\" x=\"469\" y=\"-736.8\" font-family=\"Times New Roman,serif\" font-size=\"14.00\">samples = 355</text>\r\n",
       "<text text-anchor=\"middle\" x=\"469\" y=\"-721.8\" font-family=\"Times New Roman,serif\" font-size=\"14.00\">value = [130, 225]</text>\r\n",
       "<text text-anchor=\"middle\" x=\"469\" y=\"-706.8\" font-family=\"Times New Roman,serif\" font-size=\"14.00\">class = YES</text>\r\n",
       "</g>\r\n",
       "<!-- 1 -->\r\n",
       "<g id=\"node2\" class=\"node\"><title>1</title>\r\n",
       "<polygon fill=\"#f0b48a\" stroke=\"black\" points=\"460.5,-663 341.5,-663 341.5,-580 460.5,-580 460.5,-663\"/>\r\n",
       "<text text-anchor=\"middle\" x=\"401\" y=\"-647.8\" font-family=\"Times New Roman,serif\" font-size=\"14.00\">Distance &lt;= 3.754</text>\r\n",
       "<text text-anchor=\"middle\" x=\"401\" y=\"-632.8\" font-family=\"Times New Roman,serif\" font-size=\"14.00\">gini = 0.411</text>\r\n",
       "<text text-anchor=\"middle\" x=\"401\" y=\"-617.8\" font-family=\"Times New Roman,serif\" font-size=\"14.00\">samples = 152</text>\r\n",
       "<text text-anchor=\"middle\" x=\"401\" y=\"-602.8\" font-family=\"Times New Roman,serif\" font-size=\"14.00\">value = [108, 44]</text>\r\n",
       "<text text-anchor=\"middle\" x=\"401\" y=\"-587.8\" font-family=\"Times New Roman,serif\" font-size=\"14.00\">class = NO</text>\r\n",
       "</g>\r\n",
       "<!-- 0&#45;&gt;1 -->\r\n",
       "<g id=\"edge1\" class=\"edge\"><title>0&#45;&gt;1</title>\r\n",
       "<path fill=\"none\" stroke=\"black\" d=\"M445.408,-698.907C440.344,-690.195 434.94,-680.897 429.707,-671.893\"/>\r\n",
       "<polygon fill=\"black\" stroke=\"black\" points=\"432.602,-669.908 424.551,-663.021 426.549,-673.425 432.602,-669.908\"/>\r\n",
       "<text text-anchor=\"middle\" x=\"418.15\" y=\"-683.487\" font-family=\"Times New Roman,serif\" font-size=\"14.00\">True</text>\r\n",
       "</g>\r\n",
       "<!-- 16 -->\r\n",
       "<g id=\"node17\" class=\"node\"><title>16</title>\r\n",
       "<polygon fill=\"#51a9e8\" stroke=\"black\" points=\"597.5,-663 478.5,-663 478.5,-580 597.5,-580 597.5,-663\"/>\r\n",
       "<text text-anchor=\"middle\" x=\"538\" y=\"-647.8\" font-family=\"Times New Roman,serif\" font-size=\"14.00\">Distance &lt;= 8.047</text>\r\n",
       "<text text-anchor=\"middle\" x=\"538\" y=\"-632.8\" font-family=\"Times New Roman,serif\" font-size=\"14.00\">gini = 0.193</text>\r\n",
       "<text text-anchor=\"middle\" x=\"538\" y=\"-617.8\" font-family=\"Times New Roman,serif\" font-size=\"14.00\">samples = 203</text>\r\n",
       "<text text-anchor=\"middle\" x=\"538\" y=\"-602.8\" font-family=\"Times New Roman,serif\" font-size=\"14.00\">value = [22, 181]</text>\r\n",
       "<text text-anchor=\"middle\" x=\"538\" y=\"-587.8\" font-family=\"Times New Roman,serif\" font-size=\"14.00\">class = YES</text>\r\n",
       "</g>\r\n",
       "<!-- 0&#45;&gt;16 -->\r\n",
       "<g id=\"edge16\" class=\"edge\"><title>0&#45;&gt;16</title>\r\n",
       "<path fill=\"none\" stroke=\"black\" d=\"M492.939,-698.907C498.077,-690.195 503.561,-680.897 508.871,-671.893\"/>\r\n",
       "<polygon fill=\"black\" stroke=\"black\" points=\"512.038,-673.412 514.103,-663.021 506.008,-669.857 512.038,-673.412\"/>\r\n",
       "<text text-anchor=\"middle\" x=\"520.35\" y=\"-683.528\" font-family=\"Times New Roman,serif\" font-size=\"14.00\">False</text>\r\n",
       "</g>\r\n",
       "<!-- 2 -->\r\n",
       "<g id=\"node3\" class=\"node\"><title>2</title>\r\n",
       "<polygon fill=\"#6cb6ec\" stroke=\"black\" points=\"312,-544 148,-544 148,-461 312,-461 312,-544\"/>\r\n",
       "<text text-anchor=\"middle\" x=\"230\" y=\"-528.8\" font-family=\"Times New Roman,serif\" font-size=\"14.00\">spent_last_month &lt;= 24.5</text>\r\n",
       "<text text-anchor=\"middle\" x=\"230\" y=\"-513.8\" font-family=\"Times New Roman,serif\" font-size=\"14.00\">gini = 0.324</text>\r\n",
       "<text text-anchor=\"middle\" x=\"230\" y=\"-498.8\" font-family=\"Times New Roman,serif\" font-size=\"14.00\">samples = 54</text>\r\n",
       "<text text-anchor=\"middle\" x=\"230\" y=\"-483.8\" font-family=\"Times New Roman,serif\" font-size=\"14.00\">value = [11, 43]</text>\r\n",
       "<text text-anchor=\"middle\" x=\"230\" y=\"-468.8\" font-family=\"Times New Roman,serif\" font-size=\"14.00\">class = YES</text>\r\n",
       "</g>\r\n",
       "<!-- 1&#45;&gt;2 -->\r\n",
       "<g id=\"edge2\" class=\"edge\"><title>1&#45;&gt;2</title>\r\n",
       "<path fill=\"none\" stroke=\"black\" d=\"M341.672,-579.907C327.48,-570.197 312.224,-559.758 297.686,-549.811\"/>\r\n",
       "<polygon fill=\"black\" stroke=\"black\" points=\"299.452,-546.779 289.223,-544.021 295.499,-552.556 299.452,-546.779\"/>\r\n",
       "</g>\r\n",
       "<!-- 11 -->\r\n",
       "<g id=\"node12\" class=\"node\"><title>11</title>\r\n",
       "<polygon fill=\"#e5823b\" stroke=\"black\" points=\"455,-544 349,-544 349,-461 455,-461 455,-544\"/>\r\n",
       "<text text-anchor=\"middle\" x=\"402\" y=\"-528.8\" font-family=\"Times New Roman,serif\" font-size=\"14.00\">Distance &lt;= 4.0</text>\r\n",
       "<text text-anchor=\"middle\" x=\"402\" y=\"-513.8\" font-family=\"Times New Roman,serif\" font-size=\"14.00\">gini = 0.02</text>\r\n",
       "<text text-anchor=\"middle\" x=\"402\" y=\"-498.8\" font-family=\"Times New Roman,serif\" font-size=\"14.00\">samples = 98</text>\r\n",
       "<text text-anchor=\"middle\" x=\"402\" y=\"-483.8\" font-family=\"Times New Roman,serif\" font-size=\"14.00\">value = [97, 1]</text>\r\n",
       "<text text-anchor=\"middle\" x=\"402\" y=\"-468.8\" font-family=\"Times New Roman,serif\" font-size=\"14.00\">class = NO</text>\r\n",
       "</g>\r\n",
       "<!-- 1&#45;&gt;11 -->\r\n",
       "<g id=\"edge11\" class=\"edge\"><title>1&#45;&gt;11</title>\r\n",
       "<path fill=\"none\" stroke=\"black\" d=\"M401.347,-579.907C401.418,-571.649 401.493,-562.864 401.566,-554.302\"/>\r\n",
       "<polygon fill=\"black\" stroke=\"black\" points=\"405.068,-554.05 401.654,-544.021 398.068,-553.99 405.068,-554.05\"/>\r\n",
       "</g>\r\n",
       "<!-- 3 -->\r\n",
       "<g id=\"node4\" class=\"node\"><title>3</title>\r\n",
       "<polygon fill=\"#e58139\" stroke=\"black\" points=\"162.5,-417.5 71.5,-417.5 71.5,-349.5 162.5,-349.5 162.5,-417.5\"/>\r\n",
       "<text text-anchor=\"middle\" x=\"117\" y=\"-402.3\" font-family=\"Times New Roman,serif\" font-size=\"14.00\">gini = 0.0</text>\r\n",
       "<text text-anchor=\"middle\" x=\"117\" y=\"-387.3\" font-family=\"Times New Roman,serif\" font-size=\"14.00\">samples = 8</text>\r\n",
       "<text text-anchor=\"middle\" x=\"117\" y=\"-372.3\" font-family=\"Times New Roman,serif\" font-size=\"14.00\">value = [8, 0]</text>\r\n",
       "<text text-anchor=\"middle\" x=\"117\" y=\"-357.3\" font-family=\"Times New Roman,serif\" font-size=\"14.00\">class = NO</text>\r\n",
       "</g>\r\n",
       "<!-- 2&#45;&gt;3 -->\r\n",
       "<g id=\"edge3\" class=\"edge\"><title>2&#45;&gt;3</title>\r\n",
       "<path fill=\"none\" stroke=\"black\" d=\"M190.795,-460.907C179.605,-449.321 167.413,-436.698 156.222,-425.111\"/>\r\n",
       "<polygon fill=\"black\" stroke=\"black\" points=\"158.498,-422.428 149.033,-417.667 153.463,-427.291 158.498,-422.428\"/>\r\n",
       "</g>\r\n",
       "<!-- 4 -->\r\n",
       "<g id=\"node5\" class=\"node\"><title>4</title>\r\n",
       "<polygon fill=\"#47a4e7\" stroke=\"black\" points=\"279,-425 181,-425 181,-342 279,-342 279,-425\"/>\r\n",
       "<text text-anchor=\"middle\" x=\"230\" y=\"-409.8\" font-family=\"Times New Roman,serif\" font-size=\"14.00\">Age &lt;= 57.5</text>\r\n",
       "<text text-anchor=\"middle\" x=\"230\" y=\"-394.8\" font-family=\"Times New Roman,serif\" font-size=\"14.00\">gini = 0.122</text>\r\n",
       "<text text-anchor=\"middle\" x=\"230\" y=\"-379.8\" font-family=\"Times New Roman,serif\" font-size=\"14.00\">samples = 46</text>\r\n",
       "<text text-anchor=\"middle\" x=\"230\" y=\"-364.8\" font-family=\"Times New Roman,serif\" font-size=\"14.00\">value = [3, 43]</text>\r\n",
       "<text text-anchor=\"middle\" x=\"230\" y=\"-349.8\" font-family=\"Times New Roman,serif\" font-size=\"14.00\">class = YES</text>\r\n",
       "</g>\r\n",
       "<!-- 2&#45;&gt;4 -->\r\n",
       "<g id=\"edge4\" class=\"edge\"><title>2&#45;&gt;4</title>\r\n",
       "<path fill=\"none\" stroke=\"black\" d=\"M230,-460.907C230,-452.649 230,-443.864 230,-435.302\"/>\r\n",
       "<polygon fill=\"black\" stroke=\"black\" points=\"233.5,-435.021 230,-425.021 226.5,-435.021 233.5,-435.021\"/>\r\n",
       "</g>\r\n",
       "<!-- 5 -->\r\n",
       "<g id=\"node6\" class=\"node\"><title>5</title>\r\n",
       "<polygon fill=\"#3e9fe6\" stroke=\"black\" points=\"182.5,-306 63.5,-306 63.5,-223 182.5,-223 182.5,-306\"/>\r\n",
       "<text text-anchor=\"middle\" x=\"123\" y=\"-290.8\" font-family=\"Times New Roman,serif\" font-size=\"14.00\">Distance &lt;= 3.298</text>\r\n",
       "<text text-anchor=\"middle\" x=\"123\" y=\"-275.8\" font-family=\"Times New Roman,serif\" font-size=\"14.00\">gini = 0.044</text>\r\n",
       "<text text-anchor=\"middle\" x=\"123\" y=\"-260.8\" font-family=\"Times New Roman,serif\" font-size=\"14.00\">samples = 44</text>\r\n",
       "<text text-anchor=\"middle\" x=\"123\" y=\"-245.8\" font-family=\"Times New Roman,serif\" font-size=\"14.00\">value = [1, 43]</text>\r\n",
       "<text text-anchor=\"middle\" x=\"123\" y=\"-230.8\" font-family=\"Times New Roman,serif\" font-size=\"14.00\">class = YES</text>\r\n",
       "</g>\r\n",
       "<!-- 4&#45;&gt;5 -->\r\n",
       "<g id=\"edge5\" class=\"edge\"><title>4&#45;&gt;5</title>\r\n",
       "<path fill=\"none\" stroke=\"black\" d=\"M192.877,-341.907C184.494,-332.742 175.518,-322.927 166.887,-313.489\"/>\r\n",
       "<polygon fill=\"black\" stroke=\"black\" points=\"169.389,-311.038 160.057,-306.021 164.223,-315.762 169.389,-311.038\"/>\r\n",
       "</g>\r\n",
       "<!-- 10 -->\r\n",
       "<g id=\"node11\" class=\"node\"><title>10</title>\r\n",
       "<polygon fill=\"#e58139\" stroke=\"black\" points=\"291.5,-298.5 200.5,-298.5 200.5,-230.5 291.5,-230.5 291.5,-298.5\"/>\r\n",
       "<text text-anchor=\"middle\" x=\"246\" y=\"-283.3\" font-family=\"Times New Roman,serif\" font-size=\"14.00\">gini = 0.0</text>\r\n",
       "<text text-anchor=\"middle\" x=\"246\" y=\"-268.3\" font-family=\"Times New Roman,serif\" font-size=\"14.00\">samples = 2</text>\r\n",
       "<text text-anchor=\"middle\" x=\"246\" y=\"-253.3\" font-family=\"Times New Roman,serif\" font-size=\"14.00\">value = [2, 0]</text>\r\n",
       "<text text-anchor=\"middle\" x=\"246\" y=\"-238.3\" font-family=\"Times New Roman,serif\" font-size=\"14.00\">class = NO</text>\r\n",
       "</g>\r\n",
       "<!-- 4&#45;&gt;10 -->\r\n",
       "<g id=\"edge10\" class=\"edge\"><title>4&#45;&gt;10</title>\r\n",
       "<path fill=\"none\" stroke=\"black\" d=\"M235.551,-341.907C237.015,-331.204 238.6,-319.615 240.082,-308.776\"/>\r\n",
       "<polygon fill=\"black\" stroke=\"black\" points=\"243.577,-309.049 241.464,-298.667 236.642,-308.1 243.577,-309.049\"/>\r\n",
       "</g>\r\n",
       "<!-- 6 -->\r\n",
       "<g id=\"node7\" class=\"node\"><title>6</title>\r\n",
       "<polygon fill=\"#399de5\" stroke=\"black\" points=\"98,-179.5 0,-179.5 0,-111.5 98,-111.5 98,-179.5\"/>\r\n",
       "<text text-anchor=\"middle\" x=\"49\" y=\"-164.3\" font-family=\"Times New Roman,serif\" font-size=\"14.00\">gini = 0.0</text>\r\n",
       "<text text-anchor=\"middle\" x=\"49\" y=\"-149.3\" font-family=\"Times New Roman,serif\" font-size=\"14.00\">samples = 41</text>\r\n",
       "<text text-anchor=\"middle\" x=\"49\" y=\"-134.3\" font-family=\"Times New Roman,serif\" font-size=\"14.00\">value = [0, 41]</text>\r\n",
       "<text text-anchor=\"middle\" x=\"49\" y=\"-119.3\" font-family=\"Times New Roman,serif\" font-size=\"14.00\">class = YES</text>\r\n",
       "</g>\r\n",
       "<!-- 5&#45;&gt;6 -->\r\n",
       "<g id=\"edge6\" class=\"edge\"><title>5&#45;&gt;6</title>\r\n",
       "<path fill=\"none\" stroke=\"black\" d=\"M97.3261,-222.907C90.2772,-211.763 82.6214,-199.658 75.5256,-188.439\"/>\r\n",
       "<polygon fill=\"black\" stroke=\"black\" points=\"78.2808,-186.248 69.9774,-179.667 72.3648,-189.989 78.2808,-186.248\"/>\r\n",
       "</g>\r\n",
       "<!-- 7 -->\r\n",
       "<g id=\"node8\" class=\"node\"><title>7</title>\r\n",
       "<polygon fill=\"#9ccef2\" stroke=\"black\" points=\"280,-187 116,-187 116,-104 280,-104 280,-187\"/>\r\n",
       "<text text-anchor=\"middle\" x=\"198\" y=\"-171.8\" font-family=\"Times New Roman,serif\" font-size=\"14.00\">spent_last_month &lt;= 59.5</text>\r\n",
       "<text text-anchor=\"middle\" x=\"198\" y=\"-156.8\" font-family=\"Times New Roman,serif\" font-size=\"14.00\">gini = 0.444</text>\r\n",
       "<text text-anchor=\"middle\" x=\"198\" y=\"-141.8\" font-family=\"Times New Roman,serif\" font-size=\"14.00\">samples = 3</text>\r\n",
       "<text text-anchor=\"middle\" x=\"198\" y=\"-126.8\" font-family=\"Times New Roman,serif\" font-size=\"14.00\">value = [1, 2]</text>\r\n",
       "<text text-anchor=\"middle\" x=\"198\" y=\"-111.8\" font-family=\"Times New Roman,serif\" font-size=\"14.00\">class = YES</text>\r\n",
       "</g>\r\n",
       "<!-- 5&#45;&gt;7 -->\r\n",
       "<g id=\"edge7\" class=\"edge\"><title>5&#45;&gt;7</title>\r\n",
       "<path fill=\"none\" stroke=\"black\" d=\"M149.021,-222.907C154.664,-214.105 160.69,-204.703 166.518,-195.612\"/>\r\n",
       "<polygon fill=\"black\" stroke=\"black\" points=\"169.575,-197.328 172.025,-187.021 163.682,-193.551 169.575,-197.328\"/>\r\n",
       "</g>\r\n",
       "<!-- 8 -->\r\n",
       "<g id=\"node9\" class=\"node\"><title>8</title>\r\n",
       "<polygon fill=\"#e58139\" stroke=\"black\" points=\"188.5,-68 97.5,-68 97.5,-0 188.5,-0 188.5,-68\"/>\r\n",
       "<text text-anchor=\"middle\" x=\"143\" y=\"-52.8\" font-family=\"Times New Roman,serif\" font-size=\"14.00\">gini = 0.0</text>\r\n",
       "<text text-anchor=\"middle\" x=\"143\" y=\"-37.8\" font-family=\"Times New Roman,serif\" font-size=\"14.00\">samples = 1</text>\r\n",
       "<text text-anchor=\"middle\" x=\"143\" y=\"-22.8\" font-family=\"Times New Roman,serif\" font-size=\"14.00\">value = [1, 0]</text>\r\n",
       "<text text-anchor=\"middle\" x=\"143\" y=\"-7.8\" font-family=\"Times New Roman,serif\" font-size=\"14.00\">class = NO</text>\r\n",
       "</g>\r\n",
       "<!-- 7&#45;&gt;8 -->\r\n",
       "<g id=\"edge8\" class=\"edge\"><title>7&#45;&gt;8</title>\r\n",
       "<path fill=\"none\" stroke=\"black\" d=\"M177.52,-103.726C173.214,-95.1527 168.661,-86.0891 164.325,-77.4555\"/>\r\n",
       "<polygon fill=\"black\" stroke=\"black\" points=\"167.342,-75.6647 159.726,-68.2996 161.087,-78.8067 167.342,-75.6647\"/>\r\n",
       "</g>\r\n",
       "<!-- 9 -->\r\n",
       "<g id=\"node10\" class=\"node\"><title>9</title>\r\n",
       "<polygon fill=\"#399de5\" stroke=\"black\" points=\"297.5,-68 206.5,-68 206.5,-0 297.5,-0 297.5,-68\"/>\r\n",
       "<text text-anchor=\"middle\" x=\"252\" y=\"-52.8\" font-family=\"Times New Roman,serif\" font-size=\"14.00\">gini = 0.0</text>\r\n",
       "<text text-anchor=\"middle\" x=\"252\" y=\"-37.8\" font-family=\"Times New Roman,serif\" font-size=\"14.00\">samples = 2</text>\r\n",
       "<text text-anchor=\"middle\" x=\"252\" y=\"-22.8\" font-family=\"Times New Roman,serif\" font-size=\"14.00\">value = [0, 2]</text>\r\n",
       "<text text-anchor=\"middle\" x=\"252\" y=\"-7.8\" font-family=\"Times New Roman,serif\" font-size=\"14.00\">class = YES</text>\r\n",
       "</g>\r\n",
       "<!-- 7&#45;&gt;9 -->\r\n",
       "<g id=\"edge9\" class=\"edge\"><title>7&#45;&gt;9</title>\r\n",
       "<path fill=\"none\" stroke=\"black\" d=\"M218.108,-103.726C222.336,-95.1527 226.805,-86.0891 231.063,-77.4555\"/>\r\n",
       "<polygon fill=\"black\" stroke=\"black\" points=\"234.294,-78.8164 235.578,-68.2996 228.016,-75.7203 234.294,-78.8164\"/>\r\n",
       "</g>\r\n",
       "<!-- 12 -->\r\n",
       "<g id=\"node13\" class=\"node\"><title>12</title>\r\n",
       "<polygon fill=\"#f2c09c\" stroke=\"black\" points=\"506.5,-425 297.5,-425 297.5,-342 506.5,-342 506.5,-425\"/>\r\n",
       "<text text-anchor=\"middle\" x=\"402\" y=\"-409.8\" font-family=\"Times New Roman,serif\" font-size=\"14.00\">num_coffeeBags_per_year &lt;= 2.0</text>\r\n",
       "<text text-anchor=\"middle\" x=\"402\" y=\"-394.8\" font-family=\"Times New Roman,serif\" font-size=\"14.00\">gini = 0.444</text>\r\n",
       "<text text-anchor=\"middle\" x=\"402\" y=\"-379.8\" font-family=\"Times New Roman,serif\" font-size=\"14.00\">samples = 3</text>\r\n",
       "<text text-anchor=\"middle\" x=\"402\" y=\"-364.8\" font-family=\"Times New Roman,serif\" font-size=\"14.00\">value = [2, 1]</text>\r\n",
       "<text text-anchor=\"middle\" x=\"402\" y=\"-349.8\" font-family=\"Times New Roman,serif\" font-size=\"14.00\">class = NO</text>\r\n",
       "</g>\r\n",
       "<!-- 11&#45;&gt;12 -->\r\n",
       "<g id=\"edge12\" class=\"edge\"><title>11&#45;&gt;12</title>\r\n",
       "<path fill=\"none\" stroke=\"black\" d=\"M402,-460.907C402,-452.649 402,-443.864 402,-435.302\"/>\r\n",
       "<polygon fill=\"black\" stroke=\"black\" points=\"405.5,-435.021 402,-425.021 398.5,-435.021 405.5,-435.021\"/>\r\n",
       "</g>\r\n",
       "<!-- 15 -->\r\n",
       "<g id=\"node16\" class=\"node\"><title>15</title>\r\n",
       "<polygon fill=\"#e58139\" stroke=\"black\" points=\"623,-417.5 525,-417.5 525,-349.5 623,-349.5 623,-417.5\"/>\r\n",
       "<text text-anchor=\"middle\" x=\"574\" y=\"-402.3\" font-family=\"Times New Roman,serif\" font-size=\"14.00\">gini = 0.0</text>\r\n",
       "<text text-anchor=\"middle\" x=\"574\" y=\"-387.3\" font-family=\"Times New Roman,serif\" font-size=\"14.00\">samples = 95</text>\r\n",
       "<text text-anchor=\"middle\" x=\"574\" y=\"-372.3\" font-family=\"Times New Roman,serif\" font-size=\"14.00\">value = [95, 0]</text>\r\n",
       "<text text-anchor=\"middle\" x=\"574\" y=\"-357.3\" font-family=\"Times New Roman,serif\" font-size=\"14.00\">class = NO</text>\r\n",
       "</g>\r\n",
       "<!-- 11&#45;&gt;15 -->\r\n",
       "<g id=\"edge15\" class=\"edge\"><title>11&#45;&gt;15</title>\r\n",
       "<path fill=\"none\" stroke=\"black\" d=\"M455.221,-465.573C474.116,-452.791 495.523,-438.278 515,-425 515.764,-424.48 516.532,-423.955 517.306,-423.427\"/>\r\n",
       "<polygon fill=\"black\" stroke=\"black\" points=\"519.438,-426.21 525.72,-417.679 515.489,-420.43 519.438,-426.21\"/>\r\n",
       "</g>\r\n",
       "<!-- 13 -->\r\n",
       "<g id=\"node14\" class=\"node\"><title>13</title>\r\n",
       "<polygon fill=\"#e58139\" stroke=\"black\" points=\"416.5,-298.5 325.5,-298.5 325.5,-230.5 416.5,-230.5 416.5,-298.5\"/>\r\n",
       "<text text-anchor=\"middle\" x=\"371\" y=\"-283.3\" font-family=\"Times New Roman,serif\" font-size=\"14.00\">gini = 0.0</text>\r\n",
       "<text text-anchor=\"middle\" x=\"371\" y=\"-268.3\" font-family=\"Times New Roman,serif\" font-size=\"14.00\">samples = 2</text>\r\n",
       "<text text-anchor=\"middle\" x=\"371\" y=\"-253.3\" font-family=\"Times New Roman,serif\" font-size=\"14.00\">value = [2, 0]</text>\r\n",
       "<text text-anchor=\"middle\" x=\"371\" y=\"-238.3\" font-family=\"Times New Roman,serif\" font-size=\"14.00\">class = NO</text>\r\n",
       "</g>\r\n",
       "<!-- 12&#45;&gt;13 -->\r\n",
       "<g id=\"edge13\" class=\"edge\"><title>12&#45;&gt;13</title>\r\n",
       "<path fill=\"none\" stroke=\"black\" d=\"M391.245,-341.907C388.38,-331.094 385.275,-319.376 382.378,-308.441\"/>\r\n",
       "<polygon fill=\"black\" stroke=\"black\" points=\"385.732,-307.437 379.788,-298.667 378.966,-309.23 385.732,-307.437\"/>\r\n",
       "</g>\r\n",
       "<!-- 14 -->\r\n",
       "<g id=\"node15\" class=\"node\"><title>14</title>\r\n",
       "<polygon fill=\"#399de5\" stroke=\"black\" points=\"525.5,-298.5 434.5,-298.5 434.5,-230.5 525.5,-230.5 525.5,-298.5\"/>\r\n",
       "<text text-anchor=\"middle\" x=\"480\" y=\"-283.3\" font-family=\"Times New Roman,serif\" font-size=\"14.00\">gini = 0.0</text>\r\n",
       "<text text-anchor=\"middle\" x=\"480\" y=\"-268.3\" font-family=\"Times New Roman,serif\" font-size=\"14.00\">samples = 1</text>\r\n",
       "<text text-anchor=\"middle\" x=\"480\" y=\"-253.3\" font-family=\"Times New Roman,serif\" font-size=\"14.00\">value = [0, 1]</text>\r\n",
       "<text text-anchor=\"middle\" x=\"480\" y=\"-238.3\" font-family=\"Times New Roman,serif\" font-size=\"14.00\">class = YES</text>\r\n",
       "</g>\r\n",
       "<!-- 12&#45;&gt;14 -->\r\n",
       "<g id=\"edge14\" class=\"edge\"><title>12&#45;&gt;14</title>\r\n",
       "<path fill=\"none\" stroke=\"black\" d=\"M429.062,-341.907C436.565,-330.652 444.721,-318.418 452.263,-307.106\"/>\r\n",
       "<polygon fill=\"black\" stroke=\"black\" points=\"455.254,-308.929 457.889,-298.667 449.429,-305.046 455.254,-308.929\"/>\r\n",
       "</g>\r\n",
       "<!-- 17 -->\r\n",
       "<g id=\"node18\" class=\"node\"><title>17</title>\r\n",
       "<polygon fill=\"#399de5\" stroke=\"black\" points=\"588,-536.5 484,-536.5 484,-468.5 588,-468.5 588,-536.5\"/>\r\n",
       "<text text-anchor=\"middle\" x=\"536\" y=\"-521.3\" font-family=\"Times New Roman,serif\" font-size=\"14.00\">gini = 0.0</text>\r\n",
       "<text text-anchor=\"middle\" x=\"536\" y=\"-506.3\" font-family=\"Times New Roman,serif\" font-size=\"14.00\">samples = 158</text>\r\n",
       "<text text-anchor=\"middle\" x=\"536\" y=\"-491.3\" font-family=\"Times New Roman,serif\" font-size=\"14.00\">value = [0, 158]</text>\r\n",
       "<text text-anchor=\"middle\" x=\"536\" y=\"-476.3\" font-family=\"Times New Roman,serif\" font-size=\"14.00\">class = YES</text>\r\n",
       "</g>\r\n",
       "<!-- 16&#45;&gt;17 -->\r\n",
       "<g id=\"edge17\" class=\"edge\"><title>16&#45;&gt;17</title>\r\n",
       "<path fill=\"none\" stroke=\"black\" d=\"M537.306,-579.907C537.123,-569.204 536.925,-557.615 536.74,-546.776\"/>\r\n",
       "<polygon fill=\"black\" stroke=\"black\" points=\"540.237,-546.606 536.567,-536.667 533.238,-546.725 540.237,-546.606\"/>\r\n",
       "</g>\r\n",
       "<!-- 18 -->\r\n",
       "<g id=\"node19\" class=\"node\"><title>18</title>\r\n",
       "<polygon fill=\"#f6fbfe\" stroke=\"black\" points=\"776,-544 606,-544 606,-461 776,-461 776,-544\"/>\r\n",
       "<text text-anchor=\"middle\" x=\"691\" y=\"-528.8\" font-family=\"Times New Roman,serif\" font-size=\"14.00\">spent_last_month &lt;= 140.5</text>\r\n",
       "<text text-anchor=\"middle\" x=\"691\" y=\"-513.8\" font-family=\"Times New Roman,serif\" font-size=\"14.00\">gini = 0.5</text>\r\n",
       "<text text-anchor=\"middle\" x=\"691\" y=\"-498.8\" font-family=\"Times New Roman,serif\" font-size=\"14.00\">samples = 45</text>\r\n",
       "<text text-anchor=\"middle\" x=\"691\" y=\"-483.8\" font-family=\"Times New Roman,serif\" font-size=\"14.00\">value = [22, 23]</text>\r\n",
       "<text text-anchor=\"middle\" x=\"691\" y=\"-468.8\" font-family=\"Times New Roman,serif\" font-size=\"14.00\">class = YES</text>\r\n",
       "</g>\r\n",
       "<!-- 16&#45;&gt;18 -->\r\n",
       "<g id=\"edge18\" class=\"edge\"><title>16&#45;&gt;18</title>\r\n",
       "<path fill=\"none\" stroke=\"black\" d=\"M591.083,-579.907C603.543,-570.379 616.922,-560.148 629.709,-550.37\"/>\r\n",
       "<polygon fill=\"black\" stroke=\"black\" points=\"632.194,-552.876 638.011,-544.021 627.942,-547.315 632.194,-552.876\"/>\r\n",
       "</g>\r\n",
       "<!-- 19 -->\r\n",
       "<g id=\"node20\" class=\"node\"><title>19</title>\r\n",
       "<polygon fill=\"#e58139\" stroke=\"black\" points=\"740,-417.5 642,-417.5 642,-349.5 740,-349.5 740,-417.5\"/>\r\n",
       "<text text-anchor=\"middle\" x=\"691\" y=\"-402.3\" font-family=\"Times New Roman,serif\" font-size=\"14.00\">gini = 0.0</text>\r\n",
       "<text text-anchor=\"middle\" x=\"691\" y=\"-387.3\" font-family=\"Times New Roman,serif\" font-size=\"14.00\">samples = 22</text>\r\n",
       "<text text-anchor=\"middle\" x=\"691\" y=\"-372.3\" font-family=\"Times New Roman,serif\" font-size=\"14.00\">value = [22, 0]</text>\r\n",
       "<text text-anchor=\"middle\" x=\"691\" y=\"-357.3\" font-family=\"Times New Roman,serif\" font-size=\"14.00\">class = NO</text>\r\n",
       "</g>\r\n",
       "<!-- 18&#45;&gt;19 -->\r\n",
       "<g id=\"edge19\" class=\"edge\"><title>18&#45;&gt;19</title>\r\n",
       "<path fill=\"none\" stroke=\"black\" d=\"M691,-460.907C691,-450.204 691,-438.615 691,-427.776\"/>\r\n",
       "<polygon fill=\"black\" stroke=\"black\" points=\"694.5,-427.667 691,-417.667 687.5,-427.667 694.5,-427.667\"/>\r\n",
       "</g>\r\n",
       "<!-- 20 -->\r\n",
       "<g id=\"node21\" class=\"node\"><title>20</title>\r\n",
       "<polygon fill=\"#399de5\" stroke=\"black\" points=\"856,-417.5 758,-417.5 758,-349.5 856,-349.5 856,-417.5\"/>\r\n",
       "<text text-anchor=\"middle\" x=\"807\" y=\"-402.3\" font-family=\"Times New Roman,serif\" font-size=\"14.00\">gini = 0.0</text>\r\n",
       "<text text-anchor=\"middle\" x=\"807\" y=\"-387.3\" font-family=\"Times New Roman,serif\" font-size=\"14.00\">samples = 23</text>\r\n",
       "<text text-anchor=\"middle\" x=\"807\" y=\"-372.3\" font-family=\"Times New Roman,serif\" font-size=\"14.00\">value = [0, 23]</text>\r\n",
       "<text text-anchor=\"middle\" x=\"807\" y=\"-357.3\" font-family=\"Times New Roman,serif\" font-size=\"14.00\">class = YES</text>\r\n",
       "</g>\r\n",
       "<!-- 18&#45;&gt;20 -->\r\n",
       "<g id=\"edge20\" class=\"edge\"><title>18&#45;&gt;20</title>\r\n",
       "<path fill=\"none\" stroke=\"black\" d=\"M731.246,-460.907C742.842,-449.211 755.487,-436.457 767.065,-424.78\"/>\r\n",
       "<polygon fill=\"black\" stroke=\"black\" points=\"769.561,-427.233 774.117,-417.667 764.59,-422.304 769.561,-427.233\"/>\r\n",
       "</g>\r\n",
       "</g>\r\n",
       "</svg>\r\n"
      ],
      "text/plain": [
       "<graphviz.files.Source at 0x1ae3d27cbe0>"
      ]
     },
     "execution_count": 33,
     "metadata": {},
     "output_type": "execute_result"
    }
   ],
   "source": [
    "# We can do so with export_graphviz\n",
    "tree_graph = tree.export_graphviz(gini_model, out_file=None, \n",
    "                                  feature_names=X_train.columns,  \n",
    "                                  class_names=gini_model.classes_, \n",
    "                                  filled=True)\n",
    "graph = graphviz.Source(tree_graph , format=\"png\") \n",
    "graph\n",
    "\n",
    "# Alternatively for class_names use entr_model.classes_\n",
    "#gini_model.classes_"
   ]
  },
  {
   "cell_type": "code",
   "execution_count": 34,
   "metadata": {
    "colab": {},
    "colab_type": "code",
    "id": "T0RadBy0DuWp"
   },
   "outputs": [
    {
     "name": "stdout",
     "output_type": "stream",
     "text": [
      "Model Gini impurity model\n",
      "Accuracy: 0.9831932773109243\n",
      "Balanced accuracy: 0.9813946216385241\n",
      "Precision score 0.9871794871794872\n",
      "Recall score 0.975609756097561\n"
     ]
    }
   ],
   "source": [
    "# Run this block for model evaluation\n",
    "print(\"Model Gini impurity model\")\n",
    "print(\"Accuracy:\", metrics.accuracy_score(y_test,y_pred))\n",
    "print(\"Balanced accuracy:\", metrics.balanced_accuracy_score(y_test,y_pred))\n",
    "print('Precision score' , metrics.precision_score(y_test,y_pred, pos_label = \"YES\"))\n",
    "print('Recall score' , metrics.recall_score(y_test,y_pred, pos_label = \"NO\"))"
   ]
  },
  {
   "cell_type": "markdown",
   "metadata": {
    "colab_type": "text",
    "id": "LR5LkC_yDuWs"
   },
   "source": [
    "How do the results here compare to the previous model? Write your judgements here: it performs slightly worse, but overall still excallent."
   ]
  },
  {
   "cell_type": "markdown",
   "metadata": {
    "colab_type": "text",
    "id": "3PctBjTADuWs"
   },
   "source": [
    "## Model 3: Entropy model - max depth 3\n",
    "We're going to try to limit the depth of our decision tree, using entropy first.  \n",
    "\n",
    "As you know, we need to strike a balance with tree depth. \n",
    "\n",
    "Insufficiently deep, and we're not giving the tree the opportunity to spot the right patterns in the training data.\n",
    "\n",
    "Excessively deep, and we're probably going to make a tree that overfits to the training data, at the cost of very high error on the (hitherto unseen) test data. \n",
    "\n",
    "Sophisticated data scientists use methods like random search with cross-validation to systematically find a good depth for their tree. We'll start with picking 3, and see how that goes. "
   ]
  },
  {
   "cell_type": "code",
   "execution_count": 35,
   "metadata": {
    "colab": {},
    "colab_type": "code",
    "id": "cMiPjWClDuWt"
   },
   "outputs": [
    {
     "data": {
      "text/plain": [
       "DecisionTreeClassifier(criterion='entropy', max_depth=3)"
      ]
     },
     "execution_count": 35,
     "metadata": {},
     "output_type": "execute_result"
    }
   ],
   "source": [
    "# Made a model as before, but call it entr_model2, and make the max_depth parameter equal to 3. \n",
    "# Execute the fitting, predicting, and Series operations as before\n",
    "entr_model2 = tree.DecisionTreeClassifier(criterion = 'entropy', max_depth=3)\n",
    "\n",
    "# Call fit() on entr_model\n",
    "entr_model2.fit(X_train, y_train)\n",
    "\n",
    "# Call predict() on entr_model with X_test passed to it, and assign the result to a variable y_pred \n",
    "y_pred = entr_model2.predict(X_test) \n",
    "\n",
    "# Call Series on our y_pred variable with the following: pd.Series(y_pred)\n",
    "entr_model_y_pred = pd.Series(y_pred)\n",
    "\n",
    "# Check out entr_model\n",
    "entr_model2"
   ]
  },
  {
   "cell_type": "code",
   "execution_count": 36,
   "metadata": {
    "colab": {},
    "colab_type": "code",
    "id": "IRuw72VMDuWv"
   },
   "outputs": [
    {
     "data": {
      "image/svg+xml": [
       "<?xml version=\"1.0\" encoding=\"UTF-8\" standalone=\"no\"?>\r\n",
       "<!DOCTYPE svg PUBLIC \"-//W3C//DTD SVG 1.1//EN\"\r\n",
       " \"http://www.w3.org/Graphics/SVG/1.1/DTD/svg11.dtd\">\r\n",
       "<!-- Generated by graphviz version 2.38.0 (20140413.2041)\r\n",
       " -->\r\n",
       "<!-- Title: Tree Pages: 1 -->\r\n",
       "<svg width=\"502pt\" height=\"433pt\"\r\n",
       " viewBox=\"0.00 0.00 502.00 433.00\" xmlns=\"http://www.w3.org/2000/svg\" xmlns:xlink=\"http://www.w3.org/1999/xlink\">\r\n",
       "<g id=\"graph0\" class=\"graph\" transform=\"scale(1 1) rotate(0) translate(4 429)\">\r\n",
       "<title>Tree</title>\r\n",
       "<polygon fill=\"white\" stroke=\"none\" points=\"-4,4 -4,-429 498,-429 498,4 -4,4\"/>\r\n",
       "<!-- 0 -->\r\n",
       "<g id=\"node1\" class=\"node\"><title>0</title>\r\n",
       "<polygon fill=\"#abd6f4\" stroke=\"black\" points=\"389,-425 219,-425 219,-342 389,-342 389,-425\"/>\r\n",
       "<text text-anchor=\"middle\" x=\"304\" y=\"-409.8\" font-family=\"Times New Roman,serif\" font-size=\"14.00\">spent_last_month &lt;= 138.0</text>\r\n",
       "<text text-anchor=\"middle\" x=\"304\" y=\"-394.8\" font-family=\"Times New Roman,serif\" font-size=\"14.00\">entropy = 0.948</text>\r\n",
       "<text text-anchor=\"middle\" x=\"304\" y=\"-379.8\" font-family=\"Times New Roman,serif\" font-size=\"14.00\">samples = 355</text>\r\n",
       "<text text-anchor=\"middle\" x=\"304\" y=\"-364.8\" font-family=\"Times New Roman,serif\" font-size=\"14.00\">value = [130, 225]</text>\r\n",
       "<text text-anchor=\"middle\" x=\"304\" y=\"-349.8\" font-family=\"Times New Roman,serif\" font-size=\"14.00\">class = YES</text>\r\n",
       "</g>\r\n",
       "<!-- 1 -->\r\n",
       "<g id=\"node2\" class=\"node\"><title>1</title>\r\n",
       "<polygon fill=\"#fae6d7\" stroke=\"black\" points=\"298.5,-306 179.5,-306 179.5,-223 298.5,-223 298.5,-306\"/>\r\n",
       "<text text-anchor=\"middle\" x=\"239\" y=\"-290.8\" font-family=\"Times New Roman,serif\" font-size=\"14.00\">Distance &lt;= 3.524</text>\r\n",
       "<text text-anchor=\"middle\" x=\"239\" y=\"-275.8\" font-family=\"Times New Roman,serif\" font-size=\"14.00\">entropy = 0.991</text>\r\n",
       "<text text-anchor=\"middle\" x=\"239\" y=\"-260.8\" font-family=\"Times New Roman,serif\" font-size=\"14.00\">samples = 234</text>\r\n",
       "<text text-anchor=\"middle\" x=\"239\" y=\"-245.8\" font-family=\"Times New Roman,serif\" font-size=\"14.00\">value = [130, 104]</text>\r\n",
       "<text text-anchor=\"middle\" x=\"239\" y=\"-230.8\" font-family=\"Times New Roman,serif\" font-size=\"14.00\">class = NO</text>\r\n",
       "</g>\r\n",
       "<!-- 0&#45;&gt;1 -->\r\n",
       "<g id=\"edge1\" class=\"edge\"><title>0&#45;&gt;1</title>\r\n",
       "<path fill=\"none\" stroke=\"black\" d=\"M281.449,-341.907C276.609,-333.195 271.443,-323.897 266.441,-314.893\"/>\r\n",
       "<polygon fill=\"black\" stroke=\"black\" points=\"269.428,-313.063 261.512,-306.021 263.308,-316.462 269.428,-313.063\"/>\r\n",
       "<text text-anchor=\"middle\" x=\"254.644\" y=\"-326.359\" font-family=\"Times New Roman,serif\" font-size=\"14.00\">True</text>\r\n",
       "</g>\r\n",
       "<!-- 8 -->\r\n",
       "<g id=\"node9\" class=\"node\"><title>8</title>\r\n",
       "<polygon fill=\"#399de5\" stroke=\"black\" points=\"421,-298.5 317,-298.5 317,-230.5 421,-230.5 421,-298.5\"/>\r\n",
       "<text text-anchor=\"middle\" x=\"369\" y=\"-283.3\" font-family=\"Times New Roman,serif\" font-size=\"14.00\">entropy = 0.0</text>\r\n",
       "<text text-anchor=\"middle\" x=\"369\" y=\"-268.3\" font-family=\"Times New Roman,serif\" font-size=\"14.00\">samples = 121</text>\r\n",
       "<text text-anchor=\"middle\" x=\"369\" y=\"-253.3\" font-family=\"Times New Roman,serif\" font-size=\"14.00\">value = [0, 121]</text>\r\n",
       "<text text-anchor=\"middle\" x=\"369\" y=\"-238.3\" font-family=\"Times New Roman,serif\" font-size=\"14.00\">class = YES</text>\r\n",
       "</g>\r\n",
       "<!-- 0&#45;&gt;8 -->\r\n",
       "<g id=\"edge8\" class=\"edge\"><title>0&#45;&gt;8</title>\r\n",
       "<path fill=\"none\" stroke=\"black\" d=\"M326.551,-341.907C332.743,-330.763 339.468,-318.658 345.7,-307.439\"/>\r\n",
       "<polygon fill=\"black\" stroke=\"black\" points=\"348.777,-309.108 350.574,-298.667 342.658,-305.709 348.777,-309.108\"/>\r\n",
       "<text text-anchor=\"middle\" x=\"357.442\" y=\"-319.005\" font-family=\"Times New Roman,serif\" font-size=\"14.00\">False</text>\r\n",
       "</g>\r\n",
       "<!-- 2 -->\r\n",
       "<g id=\"node3\" class=\"node\"><title>2</title>\r\n",
       "<polygon fill=\"#52aae8\" stroke=\"black\" points=\"229,-187 65,-187 65,-104 229,-104 229,-187\"/>\r\n",
       "<text text-anchor=\"middle\" x=\"147\" y=\"-171.8\" font-family=\"Times New Roman,serif\" font-size=\"14.00\">spent_last_month &lt;= 24.5</text>\r\n",
       "<text text-anchor=\"middle\" x=\"147\" y=\"-156.8\" font-family=\"Times New Roman,serif\" font-size=\"14.00\">entropy = 0.512</text>\r\n",
       "<text text-anchor=\"middle\" x=\"147\" y=\"-141.8\" font-family=\"Times New Roman,serif\" font-size=\"14.00\">samples = 79</text>\r\n",
       "<text text-anchor=\"middle\" x=\"147\" y=\"-126.8\" font-family=\"Times New Roman,serif\" font-size=\"14.00\">value = [9, 70]</text>\r\n",
       "<text text-anchor=\"middle\" x=\"147\" y=\"-111.8\" font-family=\"Times New Roman,serif\" font-size=\"14.00\">class = YES</text>\r\n",
       "</g>\r\n",
       "<!-- 1&#45;&gt;2 -->\r\n",
       "<g id=\"edge2\" class=\"edge\"><title>1&#45;&gt;2</title>\r\n",
       "<path fill=\"none\" stroke=\"black\" d=\"M207.081,-222.907C200.016,-213.923 192.461,-204.315 185.176,-195.05\"/>\r\n",
       "<polygon fill=\"black\" stroke=\"black\" points=\"187.795,-192.718 178.863,-187.021 182.292,-197.045 187.795,-192.718\"/>\r\n",
       "</g>\r\n",
       "<!-- 5 -->\r\n",
       "<g id=\"node6\" class=\"node\"><title>5</title>\r\n",
       "<polygon fill=\"#eca471\" stroke=\"black\" points=\"417,-187 247,-187 247,-104 417,-104 417,-187\"/>\r\n",
       "<text text-anchor=\"middle\" x=\"332\" y=\"-171.8\" font-family=\"Times New Roman,serif\" font-size=\"14.00\">spent_last_month &lt;= 101.0</text>\r\n",
       "<text text-anchor=\"middle\" x=\"332\" y=\"-156.8\" font-family=\"Times New Roman,serif\" font-size=\"14.00\">entropy = 0.759</text>\r\n",
       "<text text-anchor=\"middle\" x=\"332\" y=\"-141.8\" font-family=\"Times New Roman,serif\" font-size=\"14.00\">samples = 155</text>\r\n",
       "<text text-anchor=\"middle\" x=\"332\" y=\"-126.8\" font-family=\"Times New Roman,serif\" font-size=\"14.00\">value = [121, 34]</text>\r\n",
       "<text text-anchor=\"middle\" x=\"332\" y=\"-111.8\" font-family=\"Times New Roman,serif\" font-size=\"14.00\">class = NO</text>\r\n",
       "</g>\r\n",
       "<!-- 1&#45;&gt;5 -->\r\n",
       "<g id=\"edge5\" class=\"edge\"><title>1&#45;&gt;5</title>\r\n",
       "<path fill=\"none\" stroke=\"black\" d=\"M271.266,-222.907C278.407,-213.923 286.044,-204.315 293.409,-195.05\"/>\r\n",
       "<polygon fill=\"black\" stroke=\"black\" points=\"296.309,-197.027 299.791,-187.021 290.829,-192.671 296.309,-197.027\"/>\r\n",
       "</g>\r\n",
       "<!-- 3 -->\r\n",
       "<g id=\"node4\" class=\"node\"><title>3</title>\r\n",
       "<polygon fill=\"#e58139\" stroke=\"black\" points=\"92,-68 0,-68 0,-0 92,-0 92,-68\"/>\r\n",
       "<text text-anchor=\"middle\" x=\"46\" y=\"-52.8\" font-family=\"Times New Roman,serif\" font-size=\"14.00\">entropy = 0.0</text>\r\n",
       "<text text-anchor=\"middle\" x=\"46\" y=\"-37.8\" font-family=\"Times New Roman,serif\" font-size=\"14.00\">samples = 8</text>\r\n",
       "<text text-anchor=\"middle\" x=\"46\" y=\"-22.8\" font-family=\"Times New Roman,serif\" font-size=\"14.00\">value = [8, 0]</text>\r\n",
       "<text text-anchor=\"middle\" x=\"46\" y=\"-7.8\" font-family=\"Times New Roman,serif\" font-size=\"14.00\">class = NO</text>\r\n",
       "</g>\r\n",
       "<!-- 2&#45;&gt;3 -->\r\n",
       "<g id=\"edge3\" class=\"edge\"><title>2&#45;&gt;3</title>\r\n",
       "<path fill=\"none\" stroke=\"black\" d=\"M109.391,-103.726C100.979,-94.6054 92.0542,-84.93 83.6401,-75.8078\"/>\r\n",
       "<polygon fill=\"black\" stroke=\"black\" points=\"86.0675,-73.2772 76.7147,-68.2996 80.922,-78.0232 86.0675,-73.2772\"/>\r\n",
       "</g>\r\n",
       "<!-- 4 -->\r\n",
       "<g id=\"node5\" class=\"node\"><title>4</title>\r\n",
       "<polygon fill=\"#3c9ee5\" stroke=\"black\" points=\"216,-68 110,-68 110,-0 216,-0 216,-68\"/>\r\n",
       "<text text-anchor=\"middle\" x=\"163\" y=\"-52.8\" font-family=\"Times New Roman,serif\" font-size=\"14.00\">entropy = 0.107</text>\r\n",
       "<text text-anchor=\"middle\" x=\"163\" y=\"-37.8\" font-family=\"Times New Roman,serif\" font-size=\"14.00\">samples = 71</text>\r\n",
       "<text text-anchor=\"middle\" x=\"163\" y=\"-22.8\" font-family=\"Times New Roman,serif\" font-size=\"14.00\">value = [1, 70]</text>\r\n",
       "<text text-anchor=\"middle\" x=\"163\" y=\"-7.8\" font-family=\"Times New Roman,serif\" font-size=\"14.00\">class = YES</text>\r\n",
       "</g>\r\n",
       "<!-- 2&#45;&gt;4 -->\r\n",
       "<g id=\"edge4\" class=\"edge\"><title>2&#45;&gt;4</title>\r\n",
       "<path fill=\"none\" stroke=\"black\" d=\"M152.958,-103.726C154.171,-95.4263 155.45,-86.6671 156.675,-78.2834\"/>\r\n",
       "<polygon fill=\"black\" stroke=\"black\" points=\"160.152,-78.7006 158.134,-68.2996 153.225,-77.6885 160.152,-78.7006\"/>\r\n",
       "</g>\r\n",
       "<!-- 6 -->\r\n",
       "<g id=\"node7\" class=\"node\"><title>6</title>\r\n",
       "<polygon fill=\"#e6853f\" stroke=\"black\" points=\"370,-68 264,-68 264,-0 370,-0 370,-68\"/>\r\n",
       "<text text-anchor=\"middle\" x=\"317\" y=\"-52.8\" font-family=\"Times New Roman,serif\" font-size=\"14.00\">entropy = 0.191</text>\r\n",
       "<text text-anchor=\"middle\" x=\"317\" y=\"-37.8\" font-family=\"Times New Roman,serif\" font-size=\"14.00\">samples = 102</text>\r\n",
       "<text text-anchor=\"middle\" x=\"317\" y=\"-22.8\" font-family=\"Times New Roman,serif\" font-size=\"14.00\">value = [99, 3]</text>\r\n",
       "<text text-anchor=\"middle\" x=\"317\" y=\"-7.8\" font-family=\"Times New Roman,serif\" font-size=\"14.00\">class = NO</text>\r\n",
       "</g>\r\n",
       "<!-- 5&#45;&gt;6 -->\r\n",
       "<g id=\"edge6\" class=\"edge\"><title>5&#45;&gt;6</title>\r\n",
       "<path fill=\"none\" stroke=\"black\" d=\"M326.415,-103.726C325.278,-95.4263 324.078,-86.6671 322.929,-78.2834\"/>\r\n",
       "<polygon fill=\"black\" stroke=\"black\" points=\"326.386,-77.732 321.562,-68.2996 319.451,-78.6821 326.386,-77.732\"/>\r\n",
       "</g>\r\n",
       "<!-- 7 -->\r\n",
       "<g id=\"node8\" class=\"node\"><title>7</title>\r\n",
       "<polygon fill=\"#c6e3f7\" stroke=\"black\" points=\"494,-68 388,-68 388,-0 494,-0 494,-68\"/>\r\n",
       "<text text-anchor=\"middle\" x=\"441\" y=\"-52.8\" font-family=\"Times New Roman,serif\" font-size=\"14.00\">entropy = 0.979</text>\r\n",
       "<text text-anchor=\"middle\" x=\"441\" y=\"-37.8\" font-family=\"Times New Roman,serif\" font-size=\"14.00\">samples = 53</text>\r\n",
       "<text text-anchor=\"middle\" x=\"441\" y=\"-22.8\" font-family=\"Times New Roman,serif\" font-size=\"14.00\">value = [22, 31]</text>\r\n",
       "<text text-anchor=\"middle\" x=\"441\" y=\"-7.8\" font-family=\"Times New Roman,serif\" font-size=\"14.00\">class = YES</text>\r\n",
       "</g>\r\n",
       "<!-- 5&#45;&gt;7 -->\r\n",
       "<g id=\"edge7\" class=\"edge\"><title>5&#45;&gt;7</title>\r\n",
       "<path fill=\"none\" stroke=\"black\" d=\"M372.588,-103.726C381.758,-94.5142 391.491,-84.7364 400.651,-75.5343\"/>\r\n",
       "<polygon fill=\"black\" stroke=\"black\" points=\"403.278,-77.8561 407.852,-68.2996 398.317,-72.9176 403.278,-77.8561\"/>\r\n",
       "</g>\r\n",
       "</g>\r\n",
       "</svg>\r\n"
      ],
      "text/plain": [
       "<graphviz.files.Source at 0x1ae3cd87e50>"
      ]
     },
     "execution_count": 36,
     "metadata": {},
     "output_type": "execute_result"
    }
   ],
   "source": [
    "# As before, we need to visualize the tree to grasp its nature\n",
    "# We can do so with export_graphviz\n",
    "tree_graph = tree.export_graphviz(entr_model2, out_file=None, \n",
    "                                  feature_names=X_train.columns,  \n",
    "                                  class_names=entr_model2.classes_, # ascending order\n",
    "                                  filled=True)\n",
    "graph = graphviz.Source(tree_graph , format=\"png\") \n",
    "graph\n",
    "\n",
    "# Alternatively for class_names use entr_model.classes_\n",
    "#entr_model2.classes_"
   ]
  },
  {
   "cell_type": "code",
   "execution_count": 37,
   "metadata": {
    "colab": {},
    "colab_type": "code",
    "id": "29f4vmmMDuWy"
   },
   "outputs": [
    {
     "name": "stdout",
     "output_type": "stream",
     "text": [
      "Model Entropy model max depth 3\n",
      "Accuracy: 0.907563025210084\n",
      "Balanced accuracy: 0.8658536585365854\n",
      "Precision score for \"Yes\" 0.8764044943820225\n",
      "Recall score for \"No\" 0.7317073170731707\n"
     ]
    }
   ],
   "source": [
    "# Run this block for model evaluation \n",
    "print(\"Model Entropy model max depth 3\")\n",
    "print(\"Accuracy:\", metrics.accuracy_score(y_test,y_pred))\n",
    "print(\"Balanced accuracy:\", metrics.balanced_accuracy_score(y_test,y_pred))\n",
    "print('Precision score for \"Yes\"' , metrics.precision_score(y_test,y_pred, pos_label = \"YES\"))\n",
    "print('Recall score for \"No\"' , metrics.recall_score(y_test,y_pred, pos_label = \"NO\"))"
   ]
  },
  {
   "cell_type": "markdown",
   "metadata": {
    "colab_type": "text",
    "id": "AG7S2YgUDuW4"
   },
   "source": [
    "So our accuracy decreased, but is this certainly an inferior tree to the max depth original tree we did with Model 1? Write your conclusions here: The tree flow chart is easier to explain, there is less overfit and only one leaf provides bad results, i.e. 22 NO vs 31 YES. Maybe gini can make better splits."
   ]
  },
  {
   "cell_type": "markdown",
   "metadata": {
    "colab_type": "text",
    "id": "FZTl4W3wDuW4"
   },
   "source": [
    "## Model 4: Gini impurity  model - max depth 3\n",
    "We're now going to try the same with the Gini impurity model. "
   ]
  },
  {
   "cell_type": "code",
   "execution_count": 38,
   "metadata": {
    "colab": {},
    "colab_type": "code",
    "id": "FJK1bkG3DuW5"
   },
   "outputs": [
    {
     "data": {
      "text/plain": [
       "DecisionTreeClassifier(max_depth=3, random_state=1234)"
      ]
     },
     "execution_count": 38,
     "metadata": {},
     "output_type": "execute_result"
    }
   ],
   "source": [
    "# As before, make a variable, but call it gini_model2, and ensure the max_depth parameter is set to 3\n",
    "gini_model2 = tree.DecisionTreeClassifier(criterion = 'gini', random_state=1234,  max_depth=3)\n",
    "\n",
    "# Do the fit, predict, and series transformations as before. \n",
    "gini_model2.fit(X_train, y_train)\n",
    "\n",
    "# Call predict() on entr_model with X_test passed to it, and assign the result to a variable y_pred \n",
    "y_pred = gini_model2.predict(X_test) \n",
    "\n",
    "gini_model_y_pred = pd.Series(y_pred)\n",
    "\n",
    "# Check out entr_model\n",
    "gini_model2"
   ]
  },
  {
   "cell_type": "code",
   "execution_count": 39,
   "metadata": {
    "colab": {},
    "colab_type": "code",
    "id": "_UIWhKZBDuW7"
   },
   "outputs": [
    {
     "data": {
      "image/svg+xml": [
       "<?xml version=\"1.0\" encoding=\"UTF-8\" standalone=\"no\"?>\r\n",
       "<!DOCTYPE svg PUBLIC \"-//W3C//DTD SVG 1.1//EN\"\r\n",
       " \"http://www.w3.org/Graphics/SVG/1.1/DTD/svg11.dtd\">\r\n",
       "<!-- Generated by graphviz version 2.38.0 (20140413.2041)\r\n",
       " -->\r\n",
       "<!-- Title: Tree Pages: 1 -->\r\n",
       "<svg width=\"727pt\" height=\"433pt\"\r\n",
       " viewBox=\"0.00 0.00 726.50 433.00\" xmlns=\"http://www.w3.org/2000/svg\" xmlns:xlink=\"http://www.w3.org/1999/xlink\">\r\n",
       "<g id=\"graph0\" class=\"graph\" transform=\"scale(1 1) rotate(0) translate(4 429)\">\r\n",
       "<title>Tree</title>\r\n",
       "<polygon fill=\"white\" stroke=\"none\" points=\"-4,4 -4,-429 722.5,-429 722.5,4 -4,4\"/>\r\n",
       "<!-- 0 -->\r\n",
       "<g id=\"node1\" class=\"node\"><title>0</title>\r\n",
       "<polygon fill=\"#abd6f4\" stroke=\"black\" points=\"450.5,-425 280.5,-425 280.5,-342 450.5,-342 450.5,-425\"/>\r\n",
       "<text text-anchor=\"middle\" x=\"365.5\" y=\"-409.8\" font-family=\"Times New Roman,serif\" font-size=\"14.00\">spent_last_month &lt;= 100.5</text>\r\n",
       "<text text-anchor=\"middle\" x=\"365.5\" y=\"-394.8\" font-family=\"Times New Roman,serif\" font-size=\"14.00\">gini = 0.464</text>\r\n",
       "<text text-anchor=\"middle\" x=\"365.5\" y=\"-379.8\" font-family=\"Times New Roman,serif\" font-size=\"14.00\">samples = 355</text>\r\n",
       "<text text-anchor=\"middle\" x=\"365.5\" y=\"-364.8\" font-family=\"Times New Roman,serif\" font-size=\"14.00\">value = [130, 225]</text>\r\n",
       "<text text-anchor=\"middle\" x=\"365.5\" y=\"-349.8\" font-family=\"Times New Roman,serif\" font-size=\"14.00\">class = YES</text>\r\n",
       "</g>\r\n",
       "<!-- 1 -->\r\n",
       "<g id=\"node2\" class=\"node\"><title>1</title>\r\n",
       "<polygon fill=\"#f0b48a\" stroke=\"black\" points=\"357,-306 238,-306 238,-223 357,-223 357,-306\"/>\r\n",
       "<text text-anchor=\"middle\" x=\"297.5\" y=\"-290.8\" font-family=\"Times New Roman,serif\" font-size=\"14.00\">Distance &lt;= 3.754</text>\r\n",
       "<text text-anchor=\"middle\" x=\"297.5\" y=\"-275.8\" font-family=\"Times New Roman,serif\" font-size=\"14.00\">gini = 0.411</text>\r\n",
       "<text text-anchor=\"middle\" x=\"297.5\" y=\"-260.8\" font-family=\"Times New Roman,serif\" font-size=\"14.00\">samples = 152</text>\r\n",
       "<text text-anchor=\"middle\" x=\"297.5\" y=\"-245.8\" font-family=\"Times New Roman,serif\" font-size=\"14.00\">value = [108, 44]</text>\r\n",
       "<text text-anchor=\"middle\" x=\"297.5\" y=\"-230.8\" font-family=\"Times New Roman,serif\" font-size=\"14.00\">class = NO</text>\r\n",
       "</g>\r\n",
       "<!-- 0&#45;&gt;1 -->\r\n",
       "<g id=\"edge1\" class=\"edge\"><title>0&#45;&gt;1</title>\r\n",
       "<path fill=\"none\" stroke=\"black\" d=\"M341.908,-341.907C336.844,-333.195 331.44,-323.897 326.207,-314.893\"/>\r\n",
       "<polygon fill=\"black\" stroke=\"black\" points=\"329.102,-312.908 321.051,-306.021 323.049,-316.425 329.102,-312.908\"/>\r\n",
       "<text text-anchor=\"middle\" x=\"314.65\" y=\"-326.487\" font-family=\"Times New Roman,serif\" font-size=\"14.00\">True</text>\r\n",
       "</g>\r\n",
       "<!-- 8 -->\r\n",
       "<g id=\"node9\" class=\"node\"><title>8</title>\r\n",
       "<polygon fill=\"#51a9e8\" stroke=\"black\" points=\"494,-306 375,-306 375,-223 494,-223 494,-306\"/>\r\n",
       "<text text-anchor=\"middle\" x=\"434.5\" y=\"-290.8\" font-family=\"Times New Roman,serif\" font-size=\"14.00\">Distance &lt;= 8.047</text>\r\n",
       "<text text-anchor=\"middle\" x=\"434.5\" y=\"-275.8\" font-family=\"Times New Roman,serif\" font-size=\"14.00\">gini = 0.193</text>\r\n",
       "<text text-anchor=\"middle\" x=\"434.5\" y=\"-260.8\" font-family=\"Times New Roman,serif\" font-size=\"14.00\">samples = 203</text>\r\n",
       "<text text-anchor=\"middle\" x=\"434.5\" y=\"-245.8\" font-family=\"Times New Roman,serif\" font-size=\"14.00\">value = [22, 181]</text>\r\n",
       "<text text-anchor=\"middle\" x=\"434.5\" y=\"-230.8\" font-family=\"Times New Roman,serif\" font-size=\"14.00\">class = YES</text>\r\n",
       "</g>\r\n",
       "<!-- 0&#45;&gt;8 -->\r\n",
       "<g id=\"edge8\" class=\"edge\"><title>0&#45;&gt;8</title>\r\n",
       "<path fill=\"none\" stroke=\"black\" d=\"M389.439,-341.907C394.577,-333.195 400.061,-323.897 405.371,-314.893\"/>\r\n",
       "<polygon fill=\"black\" stroke=\"black\" points=\"408.538,-316.412 410.603,-306.021 402.508,-312.857 408.538,-316.412\"/>\r\n",
       "<text text-anchor=\"middle\" x=\"416.85\" y=\"-326.528\" font-family=\"Times New Roman,serif\" font-size=\"14.00\">False</text>\r\n",
       "</g>\r\n",
       "<!-- 2 -->\r\n",
       "<g id=\"node3\" class=\"node\"><title>2</title>\r\n",
       "<polygon fill=\"#6cb6ec\" stroke=\"black\" points=\"230.5,-187 66.5,-187 66.5,-104 230.5,-104 230.5,-187\"/>\r\n",
       "<text text-anchor=\"middle\" x=\"148.5\" y=\"-171.8\" font-family=\"Times New Roman,serif\" font-size=\"14.00\">spent_last_month &lt;= 24.5</text>\r\n",
       "<text text-anchor=\"middle\" x=\"148.5\" y=\"-156.8\" font-family=\"Times New Roman,serif\" font-size=\"14.00\">gini = 0.324</text>\r\n",
       "<text text-anchor=\"middle\" x=\"148.5\" y=\"-141.8\" font-family=\"Times New Roman,serif\" font-size=\"14.00\">samples = 54</text>\r\n",
       "<text text-anchor=\"middle\" x=\"148.5\" y=\"-126.8\" font-family=\"Times New Roman,serif\" font-size=\"14.00\">value = [11, 43]</text>\r\n",
       "<text text-anchor=\"middle\" x=\"148.5\" y=\"-111.8\" font-family=\"Times New Roman,serif\" font-size=\"14.00\">class = YES</text>\r\n",
       "</g>\r\n",
       "<!-- 1&#45;&gt;2 -->\r\n",
       "<g id=\"edge2\" class=\"edge\"><title>1&#45;&gt;2</title>\r\n",
       "<path fill=\"none\" stroke=\"black\" d=\"M245.805,-222.907C233.67,-213.379 220.642,-203.148 208.189,-193.37\"/>\r\n",
       "<polygon fill=\"black\" stroke=\"black\" points=\"210.13,-190.444 200.103,-187.021 205.807,-195.949 210.13,-190.444\"/>\r\n",
       "</g>\r\n",
       "<!-- 5 -->\r\n",
       "<g id=\"node6\" class=\"node\"><title>5</title>\r\n",
       "<polygon fill=\"#e5823b\" stroke=\"black\" points=\"354.5,-187 248.5,-187 248.5,-104 354.5,-104 354.5,-187\"/>\r\n",
       "<text text-anchor=\"middle\" x=\"301.5\" y=\"-171.8\" font-family=\"Times New Roman,serif\" font-size=\"14.00\">Distance &lt;= 4.0</text>\r\n",
       "<text text-anchor=\"middle\" x=\"301.5\" y=\"-156.8\" font-family=\"Times New Roman,serif\" font-size=\"14.00\">gini = 0.02</text>\r\n",
       "<text text-anchor=\"middle\" x=\"301.5\" y=\"-141.8\" font-family=\"Times New Roman,serif\" font-size=\"14.00\">samples = 98</text>\r\n",
       "<text text-anchor=\"middle\" x=\"301.5\" y=\"-126.8\" font-family=\"Times New Roman,serif\" font-size=\"14.00\">value = [97, 1]</text>\r\n",
       "<text text-anchor=\"middle\" x=\"301.5\" y=\"-111.8\" font-family=\"Times New Roman,serif\" font-size=\"14.00\">class = NO</text>\r\n",
       "</g>\r\n",
       "<!-- 1&#45;&gt;5 -->\r\n",
       "<g id=\"edge5\" class=\"edge\"><title>1&#45;&gt;5</title>\r\n",
       "<path fill=\"none\" stroke=\"black\" d=\"M298.888,-222.907C299.173,-214.558 299.477,-205.671 299.773,-197.02\"/>\r\n",
       "<polygon fill=\"black\" stroke=\"black\" points=\"303.271,-197.135 300.115,-187.021 296.275,-196.895 303.271,-197.135\"/>\r\n",
       "</g>\r\n",
       "<!-- 3 -->\r\n",
       "<g id=\"node4\" class=\"node\"><title>3</title>\r\n",
       "<polygon fill=\"#e58139\" stroke=\"black\" points=\"91,-68 0,-68 0,-0 91,-0 91,-68\"/>\r\n",
       "<text text-anchor=\"middle\" x=\"45.5\" y=\"-52.8\" font-family=\"Times New Roman,serif\" font-size=\"14.00\">gini = 0.0</text>\r\n",
       "<text text-anchor=\"middle\" x=\"45.5\" y=\"-37.8\" font-family=\"Times New Roman,serif\" font-size=\"14.00\">samples = 8</text>\r\n",
       "<text text-anchor=\"middle\" x=\"45.5\" y=\"-22.8\" font-family=\"Times New Roman,serif\" font-size=\"14.00\">value = [8, 0]</text>\r\n",
       "<text text-anchor=\"middle\" x=\"45.5\" y=\"-7.8\" font-family=\"Times New Roman,serif\" font-size=\"14.00\">class = NO</text>\r\n",
       "</g>\r\n",
       "<!-- 2&#45;&gt;3 -->\r\n",
       "<g id=\"edge3\" class=\"edge\"><title>2&#45;&gt;3</title>\r\n",
       "<path fill=\"none\" stroke=\"black\" d=\"M110.147,-103.726C101.567,-94.6054 92.4661,-84.93 83.8854,-75.8078\"/>\r\n",
       "<polygon fill=\"black\" stroke=\"black\" points=\"86.2239,-73.1855 76.8229,-68.2996 81.1251,-77.9816 86.2239,-73.1855\"/>\r\n",
       "</g>\r\n",
       "<!-- 4 -->\r\n",
       "<g id=\"node5\" class=\"node\"><title>4</title>\r\n",
       "<polygon fill=\"#47a4e7\" stroke=\"black\" points=\"207.5,-68 109.5,-68 109.5,-0 207.5,-0 207.5,-68\"/>\r\n",
       "<text text-anchor=\"middle\" x=\"158.5\" y=\"-52.8\" font-family=\"Times New Roman,serif\" font-size=\"14.00\">gini = 0.122</text>\r\n",
       "<text text-anchor=\"middle\" x=\"158.5\" y=\"-37.8\" font-family=\"Times New Roman,serif\" font-size=\"14.00\">samples = 46</text>\r\n",
       "<text text-anchor=\"middle\" x=\"158.5\" y=\"-22.8\" font-family=\"Times New Roman,serif\" font-size=\"14.00\">value = [3, 43]</text>\r\n",
       "<text text-anchor=\"middle\" x=\"158.5\" y=\"-7.8\" font-family=\"Times New Roman,serif\" font-size=\"14.00\">class = YES</text>\r\n",
       "</g>\r\n",
       "<!-- 2&#45;&gt;4 -->\r\n",
       "<g id=\"edge4\" class=\"edge\"><title>2&#45;&gt;4</title>\r\n",
       "<path fill=\"none\" stroke=\"black\" d=\"M152.224,-103.726C152.982,-95.4263 153.782,-86.6671 154.547,-78.2834\"/>\r\n",
       "<polygon fill=\"black\" stroke=\"black\" points=\"158.035,-78.5765 155.459,-68.2996 151.064,-77.9398 158.035,-78.5765\"/>\r\n",
       "</g>\r\n",
       "<!-- 6 -->\r\n",
       "<g id=\"node7\" class=\"node\"><title>6</title>\r\n",
       "<polygon fill=\"#f2c09c\" stroke=\"black\" points=\"337,-68 246,-68 246,-0 337,-0 337,-68\"/>\r\n",
       "<text text-anchor=\"middle\" x=\"291.5\" y=\"-52.8\" font-family=\"Times New Roman,serif\" font-size=\"14.00\">gini = 0.444</text>\r\n",
       "<text text-anchor=\"middle\" x=\"291.5\" y=\"-37.8\" font-family=\"Times New Roman,serif\" font-size=\"14.00\">samples = 3</text>\r\n",
       "<text text-anchor=\"middle\" x=\"291.5\" y=\"-22.8\" font-family=\"Times New Roman,serif\" font-size=\"14.00\">value = [2, 1]</text>\r\n",
       "<text text-anchor=\"middle\" x=\"291.5\" y=\"-7.8\" font-family=\"Times New Roman,serif\" font-size=\"14.00\">class = NO</text>\r\n",
       "</g>\r\n",
       "<!-- 5&#45;&gt;6 -->\r\n",
       "<g id=\"edge6\" class=\"edge\"><title>5&#45;&gt;6</title>\r\n",
       "<path fill=\"none\" stroke=\"black\" d=\"M297.776,-103.726C297.018,-95.4263 296.218,-86.6671 295.453,-78.2834\"/>\r\n",
       "<polygon fill=\"black\" stroke=\"black\" points=\"298.936,-77.9398 294.541,-68.2996 291.965,-78.5765 298.936,-77.9398\"/>\r\n",
       "</g>\r\n",
       "<!-- 7 -->\r\n",
       "<g id=\"node8\" class=\"node\"><title>7</title>\r\n",
       "<polygon fill=\"#e58139\" stroke=\"black\" points=\"453.5,-68 355.5,-68 355.5,-0 453.5,-0 453.5,-68\"/>\r\n",
       "<text text-anchor=\"middle\" x=\"404.5\" y=\"-52.8\" font-family=\"Times New Roman,serif\" font-size=\"14.00\">gini = 0.0</text>\r\n",
       "<text text-anchor=\"middle\" x=\"404.5\" y=\"-37.8\" font-family=\"Times New Roman,serif\" font-size=\"14.00\">samples = 95</text>\r\n",
       "<text text-anchor=\"middle\" x=\"404.5\" y=\"-22.8\" font-family=\"Times New Roman,serif\" font-size=\"14.00\">value = [95, 0]</text>\r\n",
       "<text text-anchor=\"middle\" x=\"404.5\" y=\"-7.8\" font-family=\"Times New Roman,serif\" font-size=\"14.00\">class = NO</text>\r\n",
       "</g>\r\n",
       "<!-- 5&#45;&gt;7 -->\r\n",
       "<g id=\"edge7\" class=\"edge\"><title>5&#45;&gt;7</title>\r\n",
       "<path fill=\"none\" stroke=\"black\" d=\"M339.853,-103.726C348.433,-94.6054 357.534,-84.93 366.115,-75.8078\"/>\r\n",
       "<polygon fill=\"black\" stroke=\"black\" points=\"368.875,-77.9816 373.177,-68.2996 363.776,-73.1855 368.875,-77.9816\"/>\r\n",
       "</g>\r\n",
       "<!-- 9 -->\r\n",
       "<g id=\"node10\" class=\"node\"><title>9</title>\r\n",
       "<polygon fill=\"#399de5\" stroke=\"black\" points=\"483.5,-179.5 379.5,-179.5 379.5,-111.5 483.5,-111.5 483.5,-179.5\"/>\r\n",
       "<text text-anchor=\"middle\" x=\"431.5\" y=\"-164.3\" font-family=\"Times New Roman,serif\" font-size=\"14.00\">gini = 0.0</text>\r\n",
       "<text text-anchor=\"middle\" x=\"431.5\" y=\"-149.3\" font-family=\"Times New Roman,serif\" font-size=\"14.00\">samples = 158</text>\r\n",
       "<text text-anchor=\"middle\" x=\"431.5\" y=\"-134.3\" font-family=\"Times New Roman,serif\" font-size=\"14.00\">value = [0, 158]</text>\r\n",
       "<text text-anchor=\"middle\" x=\"431.5\" y=\"-119.3\" font-family=\"Times New Roman,serif\" font-size=\"14.00\">class = YES</text>\r\n",
       "</g>\r\n",
       "<!-- 8&#45;&gt;9 -->\r\n",
       "<g id=\"edge9\" class=\"edge\"><title>8&#45;&gt;9</title>\r\n",
       "<path fill=\"none\" stroke=\"black\" d=\"M433.459,-222.907C433.185,-212.204 432.888,-200.615 432.61,-189.776\"/>\r\n",
       "<polygon fill=\"black\" stroke=\"black\" points=\"436.106,-189.574 432.35,-179.667 429.108,-189.753 436.106,-189.574\"/>\r\n",
       "</g>\r\n",
       "<!-- 10 -->\r\n",
       "<g id=\"node11\" class=\"node\"><title>10</title>\r\n",
       "<polygon fill=\"#f6fbfe\" stroke=\"black\" points=\"671.5,-187 501.5,-187 501.5,-104 671.5,-104 671.5,-187\"/>\r\n",
       "<text text-anchor=\"middle\" x=\"586.5\" y=\"-171.8\" font-family=\"Times New Roman,serif\" font-size=\"14.00\">spent_last_month &lt;= 140.5</text>\r\n",
       "<text text-anchor=\"middle\" x=\"586.5\" y=\"-156.8\" font-family=\"Times New Roman,serif\" font-size=\"14.00\">gini = 0.5</text>\r\n",
       "<text text-anchor=\"middle\" x=\"586.5\" y=\"-141.8\" font-family=\"Times New Roman,serif\" font-size=\"14.00\">samples = 45</text>\r\n",
       "<text text-anchor=\"middle\" x=\"586.5\" y=\"-126.8\" font-family=\"Times New Roman,serif\" font-size=\"14.00\">value = [22, 23]</text>\r\n",
       "<text text-anchor=\"middle\" x=\"586.5\" y=\"-111.8\" font-family=\"Times New Roman,serif\" font-size=\"14.00\">class = YES</text>\r\n",
       "</g>\r\n",
       "<!-- 8&#45;&gt;10 -->\r\n",
       "<g id=\"edge10\" class=\"edge\"><title>8&#45;&gt;10</title>\r\n",
       "<path fill=\"none\" stroke=\"black\" d=\"M487.236,-222.907C499.615,-213.379 512.906,-203.148 525.61,-193.37\"/>\r\n",
       "<polygon fill=\"black\" stroke=\"black\" points=\"528.068,-195.894 533.858,-187.021 523.798,-190.347 528.068,-195.894\"/>\r\n",
       "</g>\r\n",
       "<!-- 11 -->\r\n",
       "<g id=\"node12\" class=\"node\"><title>11</title>\r\n",
       "<polygon fill=\"#e58139\" stroke=\"black\" points=\"602.5,-68 504.5,-68 504.5,-0 602.5,-0 602.5,-68\"/>\r\n",
       "<text text-anchor=\"middle\" x=\"553.5\" y=\"-52.8\" font-family=\"Times New Roman,serif\" font-size=\"14.00\">gini = 0.0</text>\r\n",
       "<text text-anchor=\"middle\" x=\"553.5\" y=\"-37.8\" font-family=\"Times New Roman,serif\" font-size=\"14.00\">samples = 22</text>\r\n",
       "<text text-anchor=\"middle\" x=\"553.5\" y=\"-22.8\" font-family=\"Times New Roman,serif\" font-size=\"14.00\">value = [22, 0]</text>\r\n",
       "<text text-anchor=\"middle\" x=\"553.5\" y=\"-7.8\" font-family=\"Times New Roman,serif\" font-size=\"14.00\">class = NO</text>\r\n",
       "</g>\r\n",
       "<!-- 10&#45;&gt;11 -->\r\n",
       "<g id=\"edge11\" class=\"edge\"><title>10&#45;&gt;11</title>\r\n",
       "<path fill=\"none\" stroke=\"black\" d=\"M574.212,-103.726C571.683,-95.3351 569.013,-86.4745 566.461,-78.0072\"/>\r\n",
       "<polygon fill=\"black\" stroke=\"black\" points=\"569.772,-76.8643 563.535,-68.2996 563.07,-78.8842 569.772,-76.8643\"/>\r\n",
       "</g>\r\n",
       "<!-- 12 -->\r\n",
       "<g id=\"node13\" class=\"node\"><title>12</title>\r\n",
       "<polygon fill=\"#399de5\" stroke=\"black\" points=\"718.5,-68 620.5,-68 620.5,-0 718.5,-0 718.5,-68\"/>\r\n",
       "<text text-anchor=\"middle\" x=\"669.5\" y=\"-52.8\" font-family=\"Times New Roman,serif\" font-size=\"14.00\">gini = 0.0</text>\r\n",
       "<text text-anchor=\"middle\" x=\"669.5\" y=\"-37.8\" font-family=\"Times New Roman,serif\" font-size=\"14.00\">samples = 23</text>\r\n",
       "<text text-anchor=\"middle\" x=\"669.5\" y=\"-22.8\" font-family=\"Times New Roman,serif\" font-size=\"14.00\">value = [0, 23]</text>\r\n",
       "<text text-anchor=\"middle\" x=\"669.5\" y=\"-7.8\" font-family=\"Times New Roman,serif\" font-size=\"14.00\">class = YES</text>\r\n",
       "</g>\r\n",
       "<!-- 10&#45;&gt;12 -->\r\n",
       "<g id=\"edge12\" class=\"edge\"><title>10&#45;&gt;12</title>\r\n",
       "<path fill=\"none\" stroke=\"black\" d=\"M617.406,-103.726C624.181,-94.7878 631.36,-85.3168 638.153,-76.3558\"/>\r\n",
       "<polygon fill=\"black\" stroke=\"black\" points=\"641.008,-78.3832 644.259,-68.2996 635.429,-74.1547 641.008,-78.3832\"/>\r\n",
       "</g>\r\n",
       "</g>\r\n",
       "</svg>\r\n"
      ],
      "text/plain": [
       "<graphviz.files.Source at 0x1ae3d29b940>"
      ]
     },
     "execution_count": 39,
     "metadata": {},
     "output_type": "execute_result"
    }
   ],
   "source": [
    "tree_graph = tree.export_graphviz(gini_model2, out_file=None, \n",
    "                                  feature_names=X_train.columns,  \n",
    "                                  class_names=gini_model2.classes_, # ascending order\n",
    "                                  filled=True)\n",
    "graph = graphviz.Source(tree_graph , format=\"png\") \n",
    "graph\n",
    "\n",
    "# Alternatively for class_names use entr_model.classes_\n",
    "#gini_model2.classes_"
   ]
  },
  {
   "cell_type": "code",
   "execution_count": 40,
   "metadata": {
    "colab": {},
    "colab_type": "code",
    "id": "R4t7e9-GDuW9"
   },
   "outputs": [
    {
     "name": "stdout",
     "output_type": "stream",
     "text": [
      "Gini impurity  model - max depth 3\n",
      "Accuracy: 0.9747899159663865\n",
      "Balanced accuracy: 0.9691994996873046\n",
      "Precision score 0.9746835443037974\n",
      "Recall score 0.9512195121951219\n"
     ]
    }
   ],
   "source": [
    "print(\"Gini impurity  model - max depth 3\")\n",
    "print(\"Accuracy:\", metrics.accuracy_score(y_test,y_pred))\n",
    "print(\"Balanced accuracy:\", metrics.balanced_accuracy_score(y_test,y_pred))\n",
    "print('Precision score' , metrics.precision_score(y_test,y_pred, pos_label = \"YES\"))\n",
    "print('Recall score' , metrics.recall_score(y_test,y_pred, pos_label = \"NO\"))"
   ]
  },
  {
   "cell_type": "markdown",
   "metadata": {
    "colab_type": "text",
    "id": "UzGThBXSDuW-"
   },
   "source": [
    "Now this is an elegant tree. Its accuracy might not be the highest, but it's still the best model we've produced so far. Why is that? Write your answer here: "
   ]
  },
  {
   "cell_type": "markdown",
   "metadata": {
    "colab_type": "text",
    "id": "jS1niFlCDuW_"
   },
   "source": [
    "# 4. Evaluating and concluding\n",
    "## 4a. How many customers will buy Hidden Farm coffee? \n",
    "Let's first ascertain how many loyal customers claimed, in the survey, that they will purchase the Hidden Farm coffee. "
   ]
  },
  {
   "cell_type": "code",
   "execution_count": 41,
   "metadata": {
    "colab": {},
    "colab_type": "code",
    "id": "QPHXnHZvDuXC"
   },
   "outputs": [
    {
     "data": {
      "text/plain": [
       "YES    303\n",
       "NO     171\n",
       "Name: Decision, dtype: int64"
      ]
     },
     "execution_count": 41,
     "metadata": {},
     "output_type": "execute_result"
    }
   ],
   "source": [
    "# Call value_counts() on the 'Decision' column of the original coffeeData\n",
    "coffeeData.Decision.value_counts()"
   ]
  },
  {
   "cell_type": "markdown",
   "metadata": {
    "colab_type": "text",
    "id": "kw_5g_ZEDuXD"
   },
   "source": [
    "Let's now determine the number of people that, according to the model, will be willing to buy the Hidden Farm coffee. \n",
    "1. First we subset the Prediction dataset into `new_X` considering all the variables except `Decision` \n",
    "2. Use that dataset to predict a new variable called `potential_buyers`"
   ]
  },
  {
   "cell_type": "code",
   "execution_count": 42,
   "metadata": {
    "colab": {},
    "colab_type": "code",
    "id": "mwypR8ymDuXE"
   },
   "outputs": [],
   "source": [
    "# Feature selection\n",
    "# Make a variable called feature_cols, and assign it a list containing all the column names except 'Decision'\n",
    "feature_cols = [col for col in coffeeData.columns if col != 'Decision']\n",
    "\n",
    "# Make a variable called new_X, and assign it the subset of Prediction, containing just the feature_cols \n",
    "new_X = Prediction[feature_cols]"
   ]
  },
  {
   "cell_type": "code",
   "execution_count": 43,
   "metadata": {
    "colab": {},
    "colab_type": "code",
    "id": "0ajvbeRSDuXG"
   },
   "outputs": [],
   "source": [
    "# Call get_dummies() on the Pandas object pd, with new_X plugged in, to one-hot encode all features in the training set\n",
    "new_X = pd.get_dummies(new_X, drop_first=True)\n",
    "\n",
    "# Make a variable called potential_buyers, and assign it the result of calling predict() on a model of your choice; \n",
    "# don't forget to pass new_X to predict()\n",
    "potential_buyers = gini_model2.predict(new_X)"
   ]
  },
  {
   "cell_type": "code",
   "execution_count": 44,
   "metadata": {
    "colab": {},
    "colab_type": "code",
    "id": "-MO_KWT9DuXI"
   },
   "outputs": [
    {
     "data": {
      "text/plain": [
       "(array(['NO', 'YES'], dtype=object), array([ 45, 183], dtype=int64))"
      ]
     },
     "execution_count": 44,
     "metadata": {},
     "output_type": "execute_result"
    }
   ],
   "source": [
    "# Let's get the numbers of YES's and NO's in the potential buyers \n",
    "# Call unique() on np, and pass potential_buyers and return_counts=True \n",
    "np.unique(potential_buyers, return_counts=True)"
   ]
  },
  {
   "cell_type": "markdown",
   "metadata": {
    "colab_type": "text",
    "id": "3CB7HbiTDuXJ"
   },
   "source": [
    "The total number of potential buyers is 303 + 183 = 486"
   ]
  },
  {
   "cell_type": "code",
   "execution_count": 45,
   "metadata": {
    "colab": {},
    "colab_type": "code",
    "id": "9EGFQcTuDuXK"
   },
   "outputs": [
    {
     "data": {
      "text/plain": [
       "702"
      ]
     },
     "execution_count": 45,
     "metadata": {},
     "output_type": "execute_result"
    }
   ],
   "source": [
    "# Print the total number of surveyed people \n",
    "surveyed_people = coffeeData.shape[0]\n",
    "surveyed_people "
   ]
  },
  {
   "cell_type": "code",
   "execution_count": 46,
   "metadata": {
    "colab": {},
    "colab_type": "code",
    "id": "22_KRMX4DuXM"
   },
   "outputs": [
    {
     "data": {
      "text/plain": [
       "0.6923076923076923"
      ]
     },
     "execution_count": 46,
     "metadata": {},
     "output_type": "execute_result"
    }
   ],
   "source": [
    "# Let's calculate the proportion of buyers\n",
    "ratio = 486 / surveyed_people\n",
    "ratio"
   ]
  },
  {
   "cell_type": "code",
   "execution_count": 47,
   "metadata": {
    "colab": {},
    "colab_type": "code",
    "id": "xLMCDMpmDuXO"
   },
   "outputs": [
    {
     "name": "stdout",
     "output_type": "stream",
     "text": [
      "69.23%\n"
     ]
    }
   ],
   "source": [
    "# Print the percentage of people who want to buy the Hidden Farm coffee, by our model \n",
    "print(f'{round(ratio*100, 2)}%')"
   ]
  },
  {
   "cell_type": "markdown",
   "metadata": {
    "colab_type": "text",
    "id": "9bRDyi6rDuXQ"
   },
   "source": [
    "## 4b. Decision\n",
    "Remember how you thought at the start: if more than 70% of the interviewed customers are likely to buy the Hidden Farm coffee, you will strike the deal with the local Hidden Farm farmers and sell the coffee. Otherwise, you won't strike the deal and the Hidden Farm coffee will remain in legends only. Well now's crunch time. Are you going to go ahead with that idea? If so, you won't be striking the deal with the Chinese farmers. \n",
    "\n",
    "They're called `decision trees`, aren't they? So where's the decision? What should you do? (Cue existential cat emoji). \n",
    "\n",
    "Ultimately, though, we can't write an algorithm to actually *make the business decision* for us. This is because such decisions depend on our values, what risks we are willing to take, the stakes of our decisions, and how important it us for us to *know* that we will succeed. What are you going to do with the models you've made? Are you going to risk everything, strike the deal with the *Hidden Farm* farmers, and sell the coffee? \n",
    "\n",
    "The philosopher of language Jason Stanley once wrote that the number of doubts our evidence has to rule out in order for us to know a given proposition depends on our stakes: the higher our stakes, the more doubts our evidence has to rule out, and therefore the harder it is for us to know things. We can end up paralyzed in predicaments; sometimes, we can act to better our situation only if we already know certain things, which we can only if our stakes were lower and we'd *already* bettered our situation. \n",
    "\n",
    "Data science and machine learning can't solve such problems. But what it can do is help us make great use of our data to help *inform* our decisions."
   ]
  },
  {
   "cell_type": "markdown",
   "metadata": {
    "colab_type": "text",
    "id": "crWWrpdox8i-"
   },
   "source": [
    "## 5. Random Forest\n",
    "You might have noticed an important fact about decision trees. Each time we run a given decision tree algorithm to make a prediction (such as whether customers will buy the Hidden Farm coffee) we will actually get a slightly different result. This might seem weird, but it has a simple explanation: machine learning algorithms are by definition ***stochastic***, in that their output is at least partly determined by randomness. \n",
    "\n",
    "To account for this variability and ensure that we get the most accurate prediction, we might want to actually make lots of decision trees, and get a value that captures the centre or average of the outputs of those trees. Luckily, there's a method for this, known as the ***Random Forest***. \n",
    "\n",
    "Essentially, Random Forest involves making lots of trees with similar properties, and then performing summary statistics on the outputs of those trees to reach that central value. Random forests are hugely powerful classifers, and they can improve predictive accuracy and control over-fitting. \n",
    "\n",
    "Why not try to inform your decision with random forest? You'll need to make use of the RandomForestClassifier function within the sklearn.ensemble module, found [here](https://scikit-learn.org/stable/modules/generated/sklearn.ensemble.RandomForestClassifier.html). "
   ]
  },
  {
   "cell_type": "markdown",
   "metadata": {
    "colab_type": "text",
    "id": "fI4fiVWq0IH9"
   },
   "source": [
    "### 5a. Import necessary modules"
   ]
  },
  {
   "cell_type": "code",
   "execution_count": 48,
   "metadata": {
    "colab": {},
    "colab_type": "code",
    "id": "vSRTnHnD0D-O"
   },
   "outputs": [],
   "source": [
    "from sklearn.ensemble import RandomForestClassifier\n",
    "from sklearn.datasets import make_classification"
   ]
  },
  {
   "cell_type": "markdown",
   "metadata": {
    "colab_type": "text",
    "id": "jKmFvvjb0WB9"
   },
   "source": [
    "### 5b. Model\n",
    "You'll use your X_train and y_train variables just as before.\n",
    "\n",
    "You'll then need to make a variable (call it firstRFModel) to store your new Random Forest model. You'll assign this variable the result of calling RandomForestClassifier().\n",
    "\n",
    "Then, just as before, you'll call fit() on that firstRFModel variable, and plug in X_train and y_train.\n",
    "\n",
    "Finally, you should make a variable called y_pred, and assign it the result of calling the predict() method on your new firstRFModel, with the X_test data passed to it. "
   ]
  },
  {
   "cell_type": "code",
   "execution_count": 49,
   "metadata": {
    "colab": {},
    "colab_type": "code",
    "id": "OQEeTiRG1aSm"
   },
   "outputs": [],
   "source": [
    "# Plug in appropriate max_depth and random_state parameters \n",
    "firstRFModel = RandomForestClassifier(criterion='gini', max_depth=3, random_state=1234)\n",
    "    \n",
    "# Model and fit\n",
    "firstRFModel.fit(X_train, y_train)\n",
    "y_pred = firstRFModel.predict(X_test) "
   ]
  },
  {
   "cell_type": "code",
   "execution_count": 50,
   "metadata": {},
   "outputs": [
    {
     "name": "stdout",
     "output_type": "stream",
     "text": [
      "Random Forest model - max depth 3\n",
      "Accuracy: 0.907563025210084\n",
      "Balanced accuracy: 0.8716385240775485\n",
      "Precision score 0.8850574712643678\n",
      "Recall score 0.7560975609756098\n"
     ]
    }
   ],
   "source": [
    "print(\"Random Forest model - max depth 3\")\n",
    "print(\"Accuracy:\", metrics.accuracy_score(y_test,y_pred))\n",
    "print(\"Balanced accuracy:\", metrics.balanced_accuracy_score(y_test,y_pred))\n",
    "print('Precision score' , metrics.precision_score(y_test,y_pred, pos_label = \"YES\"))\n",
    "print('Recall score' , metrics.recall_score(y_test,y_pred, pos_label = \"NO\"))"
   ]
  },
  {
   "cell_type": "code",
   "execution_count": 51,
   "metadata": {},
   "outputs": [
    {
     "data": {
      "text/plain": [
       "(array(['NO', 'YES'], dtype=object), array([ 41, 187], dtype=int64))"
      ]
     },
     "execution_count": 51,
     "metadata": {},
     "output_type": "execute_result"
    }
   ],
   "source": [
    "potential_buyers_rf = firstRFModel.predict(new_X)\n",
    "np.unique(potential_buyers_rf, return_counts=True)"
   ]
  },
  {
   "cell_type": "code",
   "execution_count": 52,
   "metadata": {},
   "outputs": [
    {
     "name": "stdout",
     "output_type": "stream",
     "text": [
      "69.8%\n"
     ]
    }
   ],
   "source": [
    "ratio = (303+187) / surveyed_people\n",
    "print(f'{round(ratio*100, 2)}%')"
   ]
  },
  {
   "cell_type": "markdown",
   "metadata": {
    "colab_type": "text",
    "id": "sCIt6pyn1zpb"
   },
   "source": [
    "### 5c. Revise conclusion\n",
    "\n",
    "Has your conclusion changed? Or is the result of executing random forest the same as your best model reached by a single decision tree? AT max depth of 3 the random forest perform worse than the optimized gini tree. However we should optimize the depth with a search and cross-validation. An optimized forest will outperform a signle tree."
   ]
  },
  {
   "cell_type": "code",
   "execution_count": null,
   "metadata": {},
   "outputs": [],
   "source": []
  }
 ],
 "metadata": {
  "colab": {
   "collapsed_sections": [],
   "name": "Springboard Decision Tree Specialty Coffee Case Study - Tier 3.ipynb",
   "provenance": []
  },
  "kernelspec": {
   "display_name": "Python 3",
   "language": "python",
   "name": "python3"
  },
  "language_info": {
   "codemirror_mode": {
    "name": "ipython",
    "version": 3
   },
   "file_extension": ".py",
   "mimetype": "text/x-python",
   "name": "python",
   "nbconvert_exporter": "python",
   "pygments_lexer": "ipython3",
   "version": "3.8.5"
  }
 },
 "nbformat": 4,
 "nbformat_minor": 4
}
