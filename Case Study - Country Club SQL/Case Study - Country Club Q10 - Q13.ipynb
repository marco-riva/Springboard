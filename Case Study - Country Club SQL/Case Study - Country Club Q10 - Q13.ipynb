{
 "cells": [
  {
   "cell_type": "code",
   "execution_count": 1,
   "metadata": {},
   "outputs": [],
   "source": [
    "import pandas as pd\n",
    "import sqlite3 "
   ]
  },
  {
   "cell_type": "code",
   "execution_count": 2,
   "metadata": {},
   "outputs": [],
   "source": [
    "con = sqlite3.connect('sqlite_db_pythonsqlite.db')\n",
    "cur = con.cursor() # cur.execute(query) to execute query where type(query) == 'str'"
   ]
  },
  {
   "cell_type": "code",
   "execution_count": 3,
   "metadata": {},
   "outputs": [],
   "source": [
    "Q10 = '''\n",
    "SELECT f.name,\n",
    "    SUM(CASE WHEN m.memid <> 0 THEN f.membercost * b.slots\n",
    "        ELSE f.guestcost * b.slots END) AS TotalRevenue\n",
    "FROM Bookings as b\n",
    "LEFT JOIN Facilities as f\n",
    "ON b.facid = f.facid\n",
    "LEFT JOIN Members as m\n",
    "ON b.memid = m.memid\n",
    "GROUP BY f.name\n",
    "ORDER BY TotalRevenue\n",
    "'''"
   ]
  },
  {
   "cell_type": "code",
   "execution_count": 4,
   "metadata": {},
   "outputs": [
    {
     "data": {
      "text/plain": [
       "[('Table Tennis', 180),\n",
       " ('Snooker Table', 240),\n",
       " ('Pool Table', 270),\n",
       " ('Badminton Court', 1906.5),\n",
       " ('Squash Court', 13468.0),\n",
       " ('Tennis Court 1', 13860),\n",
       " ('Tennis Court 2', 14310),\n",
       " ('Massage Room 2', 14454.599999999995),\n",
       " ('Massage Room 1', 50351.600000000275)]"
      ]
     },
     "execution_count": 4,
     "metadata": {},
     "output_type": "execute_result"
    }
   ],
   "source": [
    "cur.execute(Q10)\n",
    "cur.fetchall()"
   ]
  },
  {
   "cell_type": "code",
   "execution_count": 5,
   "metadata": {},
   "outputs": [],
   "source": [
    "Q11 = '''\n",
    "SELECT recommended.surname AS recommended_surname,\n",
    "    recommended.firstname AS recommended_firstame,\n",
    "    recommender.surname AS recommender_surname,\n",
    "    recommender.firstname AS recommender_firstname\n",
    "FROM Members AS recommended\n",
    "LEFT JOIN Members AS recommender \n",
    "ON recommended.recommendedby = recommender.memid\n",
    "WHERE recommender.memid IS NOT NULL\n",
    "ORDER BY recommended_surname, \n",
    "    recommended_firstame,\n",
    "    recommender_surname,\n",
    "    recommender_firstname\n",
    "'''"
   ]
  },
  {
   "cell_type": "code",
   "execution_count": 6,
   "metadata": {},
   "outputs": [
    {
     "data": {
      "text/plain": [
       "[('Bader', 'Florence', 'Stibbons', 'Ponder'),\n",
       " ('Baker', 'Anne', 'Stibbons', 'Ponder'),\n",
       " ('Baker', 'Timothy', 'Farrell', 'Jemima'),\n",
       " ('Boothe', 'Tim', 'Rownam', 'Tim'),\n",
       " ('Butters', 'Gerald', 'Smith', 'Darren'),\n",
       " ('Coplin', 'Joan', 'Baker', 'Timothy'),\n",
       " ('Crumpet', 'Erica', 'Smith', 'Tracy'),\n",
       " ('Dare', 'Nancy', 'Joplette', 'Janice'),\n",
       " ('Genting', 'Matthew', 'Butters', 'Gerald'),\n",
       " ('Hunt', 'John', 'Purview', 'Millicent'),\n",
       " ('Jones', 'David', 'Joplette', 'Janice'),\n",
       " ('Jones', 'Douglas', 'Jones', 'David'),\n",
       " ('Joplette', 'Janice', 'Smith', 'Darren'),\n",
       " ('Mackenzie', 'Anna', 'Smith', 'Darren'),\n",
       " ('Owen', 'Charles', 'Smith', 'Darren'),\n",
       " ('Pinker', 'David', 'Farrell', 'Jemima'),\n",
       " ('Purview', 'Millicent', 'Smith', 'Tracy'),\n",
       " ('Rumney', 'Henrietta', 'Genting', 'Matthew'),\n",
       " ('Sarwin', 'Ramnaresh', 'Bader', 'Florence'),\n",
       " ('Smith', 'Jack', 'Smith', 'Darren'),\n",
       " ('Stibbons', 'Ponder', 'Tracy', 'Burton'),\n",
       " ('Worthington-Smyth', 'Henry', 'Smith', 'Tracy')]"
      ]
     },
     "execution_count": 6,
     "metadata": {},
     "output_type": "execute_result"
    }
   ],
   "source": [
    "cur.execute(Q11)\n",
    "cur.fetchall()"
   ]
  },
  {
   "cell_type": "code",
   "execution_count": 7,
   "metadata": {},
   "outputs": [],
   "source": [
    "Q12 = '''\n",
    "SELECT f.name,\n",
    "   COUNT(f.name)\n",
    "FROM Bookings AS b\n",
    "LEFT JOIN Facilities AS f\n",
    "USING (facid)\n",
    "LEFT JOIN Members as m\n",
    "ON m.memid = b.memid\n",
    "WHERE m.memid <> 0 \n",
    "GROUP BY f.name\n",
    "'''"
   ]
  },
  {
   "cell_type": "code",
   "execution_count": 8,
   "metadata": {},
   "outputs": [
    {
     "data": {
      "text/plain": [
       "[('Badminton Court', 344),\n",
       " ('Massage Room 1', 421),\n",
       " ('Massage Room 2', 27),\n",
       " ('Pool Table', 783),\n",
       " ('Snooker Table', 421),\n",
       " ('Squash Court', 195),\n",
       " ('Table Tennis', 385),\n",
       " ('Tennis Court 1', 308),\n",
       " ('Tennis Court 2', 276)]"
      ]
     },
     "execution_count": 8,
     "metadata": {},
     "output_type": "execute_result"
    }
   ],
   "source": [
    "cur.execute(Q12)\n",
    "cur.fetchall()"
   ]
  },
  {
   "cell_type": "code",
   "execution_count": 9,
   "metadata": {},
   "outputs": [],
   "source": [
    "Q13 = '''\n",
    "SELECT f.name AS Facility,\n",
    "   COUNT(f.name) AS Usage,\n",
    "   strftime('%m', b.starttime) AS Month\n",
    "FROM Bookings AS b\n",
    "LEFT JOIN Facilities AS f\n",
    "USING (facid)\n",
    "LEFT JOIN Members as m\n",
    "ON m.memid = b.memid\n",
    "WHERE m.memid <> 0 \n",
    "GROUP BY f.name, Month\n",
    "'''"
   ]
  },
  {
   "cell_type": "code",
   "execution_count": 10,
   "metadata": {},
   "outputs": [
    {
     "data": {
      "text/plain": [
       "[('Badminton Court', 51, '07'),\n",
       " ('Badminton Court', 132, '08'),\n",
       " ('Badminton Court', 161, '09'),\n",
       " ('Massage Room 1', 77, '07'),\n",
       " ('Massage Room 1', 153, '08'),\n",
       " ('Massage Room 1', 191, '09'),\n",
       " ('Massage Room 2', 4, '07'),\n",
       " ('Massage Room 2', 9, '08'),\n",
       " ('Massage Room 2', 14, '09'),\n",
       " ('Pool Table', 103, '07'),\n",
       " ('Pool Table', 272, '08'),\n",
       " ('Pool Table', 408, '09'),\n",
       " ('Snooker Table', 68, '07'),\n",
       " ('Snooker Table', 154, '08'),\n",
       " ('Snooker Table', 199, '09'),\n",
       " ('Squash Court', 23, '07'),\n",
       " ('Squash Court', 85, '08'),\n",
       " ('Squash Court', 87, '09'),\n",
       " ('Table Tennis', 48, '07'),\n",
       " ('Table Tennis', 143, '08'),\n",
       " ('Table Tennis', 194, '09'),\n",
       " ('Tennis Court 1', 65, '07'),\n",
       " ('Tennis Court 1', 111, '08'),\n",
       " ('Tennis Court 1', 132, '09'),\n",
       " ('Tennis Court 2', 41, '07'),\n",
       " ('Tennis Court 2', 109, '08'),\n",
       " ('Tennis Court 2', 126, '09')]"
      ]
     },
     "execution_count": 10,
     "metadata": {},
     "output_type": "execute_result"
    }
   ],
   "source": [
    "cur.execute(Q13)\n",
    "cur.fetchall()"
   ]
  },
  {
   "cell_type": "code",
   "execution_count": 11,
   "metadata": {},
   "outputs": [],
   "source": [
    "con.close()"
   ]
  },
  {
   "cell_type": "code",
   "execution_count": null,
   "metadata": {},
   "outputs": [],
   "source": []
  }
 ],
 "metadata": {
  "kernelspec": {
   "display_name": "Python 3",
   "language": "python",
   "name": "python3"
  },
  "language_info": {
   "codemirror_mode": {
    "name": "ipython",
    "version": 3
   },
   "file_extension": ".py",
   "mimetype": "text/x-python",
   "name": "python",
   "nbconvert_exporter": "python",
   "pygments_lexer": "ipython3",
   "version": "3.8.5"
  }
 },
 "nbformat": 4,
 "nbformat_minor": 4
}
